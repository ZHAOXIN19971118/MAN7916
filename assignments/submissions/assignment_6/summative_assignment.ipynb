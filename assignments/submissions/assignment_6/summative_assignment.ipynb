{
 "cells": [
  {
   "cell_type": "code",
   "execution_count": 30,
   "metadata": {},
   "outputs": [
    {
     "name": "stdout",
     "output_type": "stream",
     "text": [
      "Journal: Personnel Psychology, ISSN: ['0031-5826', '1744-6570']\n",
      "Journal: Entrepreneurship Theory and Practice, ISSN: ['1042-2587', '1540-8520', '1540-6520']\n",
      "Journal: Journal of Management, ISSN: ['0149-2063', '1557-1211']\n"
     ]
    }
   ],
   "source": [
    "import requests\n",
    "\n",
    "EMAIL = \"xi183728@ucf.edu.edu\"\n",
    "journals = [\"Personnel Psychology\", \"Entrepreneurship Theory and Practice\", \"Journal of Management\"]\n",
    "journal_issn = {}\n",
    "\n",
    "for journal in journals:\n",
    "    url = f\"https://api.crossref.org/journals?query={journal}&mailto={EMAIL}\"\n",
    "    response = requests.get(url)\n",
    "    \n",
    "    if response.status_code == 200:\n",
    "        data = response.json()\n",
    "        items = data.get(\"message\", {}).get(\"items\", [])\n",
    "        \n",
    "        # 尝试在返回结果中找到标题完全匹配的期刊\n",
    "        matched_item = None\n",
    "        for item in items:\n",
    "            if item.get(\"title\", \"\").lower() == journal.lower():\n",
    "                matched_item = item\n",
    "                break\n",
    "        \n",
    "        if matched_item:\n",
    "            journal_issn[journal] = matched_item.get(\"ISSN\", \"No ISSN found\")\n",
    "        else:\n",
    "            journal_issn[journal] = \"No ISSN found\"\n",
    "    else:\n",
    "        print(f\"Failed to fetch ISSN for {journal}, status code: {response.status_code}\")\n",
    "\n",
    "# 输出结果\n",
    "for journal, issn in journal_issn.items():\n",
    "    print(f\"Journal: {journal}, ISSN: {issn}\")\n"
   ]
  },
  {
   "cell_type": "code",
   "execution_count": 10,
   "metadata": {},
   "outputs": [
    {
     "name": "stdout",
     "output_type": "stream",
     "text": [
      "\n",
      "Journal: Personnel Psychology\n",
      "Information:\n",
      "last-status-check-time: 1739592840688\n",
      "counts: {'current-dois': 116, 'backfile-dois': 3890, 'total-dois': 4006}\n",
      "breakdowns: {'dois-by-issued-year': [[2005, 116], [2006, 99], [2007, 89], [2004, 82], [2023, 75], [2022, 75], [2016, 75], [2013, 69], [2008, 67], [1959, 67], [2020, 66], [2011, 66], [2010, 66], [2012, 65], [2009, 65], [2019, 63], [1978, 60], [2021, 59], [2018, 59], [2015, 58], [1972, 57], [2014, 55], [1980, 55], [1973, 53], [1970, 53], [1998, 52], [1982, 51], [1971, 51], [1995, 50], [1954, 50], [1950, 50], [1977, 49], [1976, 49], [1962, 49], [1958, 49], [1955, 49], [2017, 48], [1983, 48], [1981, 48], [1979, 48], [1969, 48], [1997, 47], [1974, 47], [2000, 46], [1994, 46], [1961, 46], [1968, 45], [1951, 45], [2003, 44], [1999, 44], [1996, 44], [1960, 44], [1952, 44], [1948, 44], [1993, 43], [1965, 43], [1963, 43], [1957, 43], [2002, 42], [2001, 42], [1987, 42], [1984, 42], [1966, 42], [1956, 42], [1953, 42], [1986, 41], [1964, 41], [1988, 40], [1975, 40], [1990, 39], [1985, 38], [1967, 37], [1992, 35], [1989, 35], [2024, 34], [1991, 34], [1949, 30], [2025, 7]]}\n",
      "publisher: Wiley (Blackwell Publishing)\n",
      "coverage: {'affiliations-current': 0.6982758620689655, 'similarity-checking-current': 0.9224137931034483, 'descriptions-current': 0.0, 'ror-ids-current': 0.0, 'funders-backfile': 0.01491002570694087, 'licenses-backfile': 0.990745501285347, 'funders-current': 0.07758620689655173, 'affiliations-backfile': 0.1143958868894602, 'resource-links-backfile': 0.9902313624678662, 'orcids-backfile': 0.04061696658097686, 'update-policies-current': 0.9224137931034483, 'ror-ids-backfile': 0.0, 'orcids-current': 0.5948275862068966, 'similarity-checking-backfile': 0.9210796915167095, 'references-backfile': 0.6709511568123393, 'descriptions-backfile': 0.0, 'award-numbers-backfile': 0.01182519280205656, 'update-policies-backfile': 0.07455012853470437, 'licenses-current': 0.9224137931034483, 'award-numbers-current': 0.0603448275862069, 'abstracts-backfile': 0.4377892030848329, 'resource-links-current': 0.2155172413793103, 'abstracts-current': 0.4913793103448276, 'references-current': 0.5603448275862069}\n",
      "title: Personnel Psychology\n",
      "subjects: []\n",
      "coverage-type: {'all': {'last-status-check-time': 1739592840688, 'affiliations': 0.1312702770152234, 'abstracts': 0.4392313451459945, 'orcids': 0.05665086099326179, 'licenses': 0.9885200898427751, 'references': 0.6675817319690542, 'funders': 0.01672073870726229, 'similarity-checking': 0.9208884452208635, 'award-numbers': 0.01322685300723733, 'ror-ids': 0.0, 'update-policies': 0.09907661592213626, 'resource-links': 0.9675567756426254, 'descriptions': 0.0}, 'backfile': {'last-status-check-time': 1739592840688, 'affiliations': 0.1143958868894602, 'abstracts': 0.4377892030848329, 'orcids': 0.04061696658097686, 'licenses': 0.990745501285347, 'references': 0.6709511568123393, 'funders': 0.01491002570694087, 'similarity-checking': 0.9210796915167095, 'award-numbers': 0.01182519280205656, 'ror-ids': 0.0, 'update-policies': 0.07455012853470437, 'resource-links': 0.9902313624678662, 'descriptions': 0.0}, 'current': {'last-status-check-time': 1739592840688, 'affiliations': 0.6982758620689655, 'abstracts': 0.4913793103448276, 'orcids': 0.5948275862068966, 'licenses': 0.9224137931034483, 'references': 0.5603448275862069, 'funders': 0.07758620689655173, 'similarity-checking': 0.9224137931034483, 'award-numbers': 0.0603448275862069, 'ror-ids': 0.0, 'update-policies': 0.9224137931034483, 'resource-links': 0.2155172413793103, 'descriptions': 0.0}}\n",
      "flags: {'deposits-abstracts-current': True, 'deposits-orcids-current': True, 'deposits': True, 'deposits-affiliations-backfile': True, 'deposits-update-policies-backfile': True, 'deposits-similarity-checking-backfile': True, 'deposits-award-numbers-current': True, 'deposits-resource-links-current': True, 'deposits-ror-ids-current': False, 'deposits-articles': True, 'deposits-affiliations-current': True, 'deposits-funders-current': True, 'deposits-references-backfile': True, 'deposits-ror-ids-backfile': False, 'deposits-abstracts-backfile': True, 'deposits-licenses-backfile': True, 'deposits-award-numbers-backfile': True, 'deposits-descriptions-current': False, 'deposits-references-current': True, 'deposits-resource-links-backfile': True, 'deposits-descriptions-backfile': False, 'deposits-orcids-backfile': True, 'deposits-funders-backfile': True, 'deposits-update-policies-current': True, 'deposits-similarity-checking-current': True, 'deposits-licenses-current': True}\n",
      "ISSN: ['0031-5826', '1744-6570']\n",
      "issn-type: [{'type': 'print', 'value': '0031-5826'}, {'type': 'electronic', 'value': '1744-6570'}]\n",
      "--------------------------------------------------------------------------------\n",
      "Information:\n",
      "last-status-check-time: 1739592840688\n",
      "counts: {'current-dois': 116, 'backfile-dois': 3890, 'total-dois': 4006}\n",
      "breakdowns: {'dois-by-issued-year': [[2005, 116], [2006, 99], [2007, 89], [2004, 82], [2023, 75], [2022, 75], [2016, 75], [2013, 69], [2008, 67], [1959, 67], [2020, 66], [2011, 66], [2010, 66], [2012, 65], [2009, 65], [2019, 63], [1978, 60], [2021, 59], [2018, 59], [2015, 58], [1972, 57], [2014, 55], [1980, 55], [1973, 53], [1970, 53], [1998, 52], [1982, 51], [1971, 51], [1995, 50], [1954, 50], [1950, 50], [1977, 49], [1976, 49], [1962, 49], [1958, 49], [1955, 49], [2017, 48], [1983, 48], [1981, 48], [1979, 48], [1969, 48], [1997, 47], [1974, 47], [2000, 46], [1994, 46], [1961, 46], [1968, 45], [1951, 45], [2003, 44], [1999, 44], [1996, 44], [1960, 44], [1952, 44], [1948, 44], [1993, 43], [1965, 43], [1963, 43], [1957, 43], [2002, 42], [2001, 42], [1987, 42], [1984, 42], [1966, 42], [1956, 42], [1953, 42], [1986, 41], [1964, 41], [1988, 40], [1975, 40], [1990, 39], [1985, 38], [1967, 37], [1992, 35], [1989, 35], [2024, 34], [1991, 34], [1949, 30], [2025, 7]]}\n",
      "publisher: Wiley (Blackwell Publishing)\n",
      "coverage: {'affiliations-current': 0.6982758620689655, 'similarity-checking-current': 0.9224137931034483, 'descriptions-current': 0.0, 'ror-ids-current': 0.0, 'funders-backfile': 0.01491002570694087, 'licenses-backfile': 0.990745501285347, 'funders-current': 0.07758620689655173, 'affiliations-backfile': 0.1143958868894602, 'resource-links-backfile': 0.9902313624678662, 'orcids-backfile': 0.04061696658097686, 'update-policies-current': 0.9224137931034483, 'ror-ids-backfile': 0.0, 'orcids-current': 0.5948275862068966, 'similarity-checking-backfile': 0.9210796915167095, 'references-backfile': 0.6709511568123393, 'descriptions-backfile': 0.0, 'award-numbers-backfile': 0.01182519280205656, 'update-policies-backfile': 0.07455012853470437, 'licenses-current': 0.9224137931034483, 'award-numbers-current': 0.0603448275862069, 'abstracts-backfile': 0.4377892030848329, 'resource-links-current': 0.2155172413793103, 'abstracts-current': 0.4913793103448276, 'references-current': 0.5603448275862069}\n",
      "title: Personnel Psychology\n",
      "subjects: []\n",
      "coverage-type: {'all': {'last-status-check-time': 1739592840688, 'affiliations': 0.1312702770152234, 'abstracts': 0.4392313451459945, 'orcids': 0.05665086099326179, 'licenses': 0.9885200898427751, 'references': 0.6675817319690542, 'funders': 0.01672073870726229, 'similarity-checking': 0.9208884452208635, 'award-numbers': 0.01322685300723733, 'ror-ids': 0.0, 'update-policies': 0.09907661592213626, 'resource-links': 0.9675567756426254, 'descriptions': 0.0}, 'backfile': {'last-status-check-time': 1739592840688, 'affiliations': 0.1143958868894602, 'abstracts': 0.4377892030848329, 'orcids': 0.04061696658097686, 'licenses': 0.990745501285347, 'references': 0.6709511568123393, 'funders': 0.01491002570694087, 'similarity-checking': 0.9210796915167095, 'award-numbers': 0.01182519280205656, 'ror-ids': 0.0, 'update-policies': 0.07455012853470437, 'resource-links': 0.9902313624678662, 'descriptions': 0.0}, 'current': {'last-status-check-time': 1739592840688, 'affiliations': 0.6982758620689655, 'abstracts': 0.4913793103448276, 'orcids': 0.5948275862068966, 'licenses': 0.9224137931034483, 'references': 0.5603448275862069, 'funders': 0.07758620689655173, 'similarity-checking': 0.9224137931034483, 'award-numbers': 0.0603448275862069, 'ror-ids': 0.0, 'update-policies': 0.9224137931034483, 'resource-links': 0.2155172413793103, 'descriptions': 0.0}}\n",
      "flags: {'deposits-abstracts-current': True, 'deposits-orcids-current': True, 'deposits': True, 'deposits-affiliations-backfile': True, 'deposits-update-policies-backfile': True, 'deposits-similarity-checking-backfile': True, 'deposits-award-numbers-current': True, 'deposits-resource-links-current': True, 'deposits-ror-ids-current': False, 'deposits-articles': True, 'deposits-affiliations-current': True, 'deposits-funders-current': True, 'deposits-references-backfile': True, 'deposits-ror-ids-backfile': False, 'deposits-abstracts-backfile': True, 'deposits-licenses-backfile': True, 'deposits-award-numbers-backfile': True, 'deposits-descriptions-current': False, 'deposits-references-current': True, 'deposits-resource-links-backfile': True, 'deposits-descriptions-backfile': False, 'deposits-orcids-backfile': True, 'deposits-funders-backfile': True, 'deposits-update-policies-current': True, 'deposits-similarity-checking-current': True, 'deposits-licenses-current': True}\n",
      "ISSN: ['0031-5826', '1744-6570']\n",
      "issn-type: [{'type': 'print', 'value': '0031-5826'}, {'type': 'electronic', 'value': '1744-6570'}]\n",
      "--------------------------------------------------------------------------------\n",
      "\n",
      "Journal: Entrepreneurship Theory and Practice\n",
      "Information:\n",
      "last-status-check-time: 1739589178608\n",
      "counts: {'current-dois': 84, 'backfile-dois': 1689, 'total-dois': 1773}\n",
      "breakdowns: {'dois-by-issued-year': [[2016, 91], [2013, 82], [2017, 75], [2018, 73], [2009, 72], [2011, 71], [2008, 70], [2014, 69], [2022, 67], [2020, 65], [2012, 64], [2010, 63], [2021, 61], [2015, 60], [2007, 59], [2006, 57], [2024, 44], [2019, 43], [2005, 42], [1991, 37], [2003, 36], [1993, 36], [1990, 34], [2023, 33], [2002, 33], [1989, 33], [1998, 32], [1995, 32], [2000, 31], [1994, 31], [2004, 29], [1999, 29], [1992, 29], [1997, 27], [1996, 25], [2001, 23], [1988, 8], [2025, 7]]}\n",
      "publisher: SAGE Publications\n",
      "coverage: {'affiliations-current': 1.0, 'similarity-checking-current': 1.0, 'descriptions-current': 0.0, 'ror-ids-current': 0.0, 'funders-backfile': 0.05150976909413854, 'licenses-backfile': 0.9917110716400237, 'funders-current': 0.3095238095238095, 'affiliations-backfile': 0.8342214328004737, 'resource-links-backfile': 0.9917110716400237, 'orcids-backfile': 0.1776198934280639, 'update-policies-current': 1.0, 'ror-ids-backfile': 0.0, 'orcids-current': 1.0, 'similarity-checking-backfile': 0.9307282415630551, 'references-backfile': 0.8294849023090586, 'descriptions-backfile': 0.0, 'award-numbers-backfile': 0.03256364712847839, 'update-policies-backfile': 0.4345766725873298, 'licenses-current': 1.0, 'award-numbers-current': 0.2738095238095238, 'abstracts-backfile': 0.7886323268206039, 'resource-links-current': 1.0, 'abstracts-current': 1.0, 'references-current': 1.0}\n",
      "title: Entrepreneurship Theory and Practice\n",
      "subjects: []\n",
      "coverage-type: {'all': {'last-status-check-time': 1739589178608, 'affiliations': 0.8416009019165727, 'abstracts': 0.798196166854566, 'orcids': 0.2164599774520857, 'licenses': 0.9915445321307779, 'references': 0.8370913190529876, 'funders': 0.0636978579481398, 'similarity-checking': 0.9334836527621195, 'award-numbers': 0.0439684329199549, 'ror-ids': 0.0, 'update-policies': 0.4611048478015784, 'resource-links': 0.9915445321307779, 'descriptions': 0.0}, 'backfile': {'last-status-check-time': 1739589178608, 'affiliations': 0.8342214328004737, 'abstracts': 0.7886323268206039, 'orcids': 0.1776198934280639, 'licenses': 0.9917110716400237, 'references': 0.8294849023090586, 'funders': 0.05150976909413854, 'similarity-checking': 0.9307282415630551, 'award-numbers': 0.03256364712847839, 'ror-ids': 0.0, 'update-policies': 0.4345766725873298, 'resource-links': 0.9917110716400237, 'descriptions': 0.0}, 'current': {'last-status-check-time': 1739589178608, 'affiliations': 1.0, 'abstracts': 1.0, 'orcids': 1.0, 'licenses': 1.0, 'references': 1.0, 'funders': 0.3095238095238095, 'similarity-checking': 1.0, 'award-numbers': 0.2738095238095238, 'ror-ids': 0.0, 'update-policies': 1.0, 'resource-links': 1.0, 'descriptions': 0.0}}\n",
      "flags: {'deposits-abstracts-current': True, 'deposits-orcids-current': True, 'deposits': True, 'deposits-affiliations-backfile': True, 'deposits-update-policies-backfile': True, 'deposits-similarity-checking-backfile': True, 'deposits-award-numbers-current': True, 'deposits-resource-links-current': True, 'deposits-ror-ids-current': False, 'deposits-articles': True, 'deposits-affiliations-current': True, 'deposits-funders-current': True, 'deposits-references-backfile': True, 'deposits-ror-ids-backfile': False, 'deposits-abstracts-backfile': True, 'deposits-licenses-backfile': True, 'deposits-award-numbers-backfile': True, 'deposits-descriptions-current': False, 'deposits-references-current': True, 'deposits-resource-links-backfile': True, 'deposits-descriptions-backfile': False, 'deposits-orcids-backfile': True, 'deposits-funders-backfile': True, 'deposits-update-policies-current': True, 'deposits-similarity-checking-current': True, 'deposits-licenses-current': True}\n",
      "ISSN: ['1042-2587', '1540-8520', '1540-6520']\n",
      "issn-type: [{'type': 'print', 'value': '1042-2587'}, {'type': 'electronic', 'value': '1540-8520'}, {'type': None, 'value': '1540-6520'}]\n",
      "--------------------------------------------------------------------------------\n",
      "Information:\n",
      "last-status-check-time: 1739589178608\n",
      "counts: {'current-dois': 84, 'backfile-dois': 1689, 'total-dois': 1773}\n",
      "breakdowns: {'dois-by-issued-year': [[2016, 91], [2013, 82], [2017, 75], [2018, 73], [2009, 72], [2011, 71], [2008, 70], [2014, 69], [2022, 67], [2020, 65], [2012, 64], [2010, 63], [2021, 61], [2015, 60], [2007, 59], [2006, 57], [2024, 44], [2019, 43], [2005, 42], [1991, 37], [2003, 36], [1993, 36], [1990, 34], [2023, 33], [2002, 33], [1989, 33], [1998, 32], [1995, 32], [2000, 31], [1994, 31], [2004, 29], [1999, 29], [1992, 29], [1997, 27], [1996, 25], [2001, 23], [1988, 8], [2025, 7]]}\n",
      "publisher: SAGE Publications\n",
      "coverage: {'affiliations-current': 1.0, 'similarity-checking-current': 1.0, 'descriptions-current': 0.0, 'ror-ids-current': 0.0, 'funders-backfile': 0.05150976909413854, 'licenses-backfile': 0.9917110716400237, 'funders-current': 0.3095238095238095, 'affiliations-backfile': 0.8342214328004737, 'resource-links-backfile': 0.9917110716400237, 'orcids-backfile': 0.1776198934280639, 'update-policies-current': 1.0, 'ror-ids-backfile': 0.0, 'orcids-current': 1.0, 'similarity-checking-backfile': 0.9307282415630551, 'references-backfile': 0.8294849023090586, 'descriptions-backfile': 0.0, 'award-numbers-backfile': 0.03256364712847839, 'update-policies-backfile': 0.4345766725873298, 'licenses-current': 1.0, 'award-numbers-current': 0.2738095238095238, 'abstracts-backfile': 0.7886323268206039, 'resource-links-current': 1.0, 'abstracts-current': 1.0, 'references-current': 1.0}\n",
      "title: Entrepreneurship Theory and Practice\n",
      "subjects: []\n",
      "coverage-type: {'all': {'last-status-check-time': 1739589178608, 'affiliations': 0.8416009019165727, 'abstracts': 0.798196166854566, 'orcids': 0.2164599774520857, 'licenses': 0.9915445321307779, 'references': 0.8370913190529876, 'funders': 0.0636978579481398, 'similarity-checking': 0.9334836527621195, 'award-numbers': 0.0439684329199549, 'ror-ids': 0.0, 'update-policies': 0.4611048478015784, 'resource-links': 0.9915445321307779, 'descriptions': 0.0}, 'backfile': {'last-status-check-time': 1739589178608, 'affiliations': 0.8342214328004737, 'abstracts': 0.7886323268206039, 'orcids': 0.1776198934280639, 'licenses': 0.9917110716400237, 'references': 0.8294849023090586, 'funders': 0.05150976909413854, 'similarity-checking': 0.9307282415630551, 'award-numbers': 0.03256364712847839, 'ror-ids': 0.0, 'update-policies': 0.4345766725873298, 'resource-links': 0.9917110716400237, 'descriptions': 0.0}, 'current': {'last-status-check-time': 1739589178608, 'affiliations': 1.0, 'abstracts': 1.0, 'orcids': 1.0, 'licenses': 1.0, 'references': 1.0, 'funders': 0.3095238095238095, 'similarity-checking': 1.0, 'award-numbers': 0.2738095238095238, 'ror-ids': 0.0, 'update-policies': 1.0, 'resource-links': 1.0, 'descriptions': 0.0}}\n",
      "flags: {'deposits-abstracts-current': True, 'deposits-orcids-current': True, 'deposits': True, 'deposits-affiliations-backfile': True, 'deposits-update-policies-backfile': True, 'deposits-similarity-checking-backfile': True, 'deposits-award-numbers-current': True, 'deposits-resource-links-current': True, 'deposits-ror-ids-current': False, 'deposits-articles': True, 'deposits-affiliations-current': True, 'deposits-funders-current': True, 'deposits-references-backfile': True, 'deposits-ror-ids-backfile': False, 'deposits-abstracts-backfile': True, 'deposits-licenses-backfile': True, 'deposits-award-numbers-backfile': True, 'deposits-descriptions-current': False, 'deposits-references-current': True, 'deposits-resource-links-backfile': True, 'deposits-descriptions-backfile': False, 'deposits-orcids-backfile': True, 'deposits-funders-backfile': True, 'deposits-update-policies-current': True, 'deposits-similarity-checking-current': True, 'deposits-licenses-current': True}\n",
      "ISSN: ['1042-2587', '1540-8520', '1540-6520']\n",
      "issn-type: [{'type': 'print', 'value': '1042-2587'}, {'type': 'electronic', 'value': '1540-8520'}, {'type': None, 'value': '1540-6520'}]\n",
      "--------------------------------------------------------------------------------\n",
      "Information:\n",
      "last-status-check-time: 1739589178608\n",
      "counts: {'current-dois': 84, 'backfile-dois': 1689, 'total-dois': 1773}\n",
      "breakdowns: {'dois-by-issued-year': [[2016, 91], [2013, 82], [2017, 75], [2018, 73], [2009, 72], [2011, 71], [2008, 70], [2014, 69], [2022, 67], [2020, 65], [2012, 64], [2010, 63], [2021, 61], [2015, 60], [2007, 59], [2006, 57], [2024, 44], [2019, 43], [2005, 42], [1991, 37], [2003, 36], [1993, 36], [1990, 34], [2023, 33], [2002, 33], [1989, 33], [1998, 32], [1995, 32], [2000, 31], [1994, 31], [2004, 29], [1999, 29], [1992, 29], [1997, 27], [1996, 25], [2001, 23], [1988, 8], [2025, 7]]}\n",
      "publisher: SAGE Publications\n",
      "coverage: {'affiliations-current': 1.0, 'similarity-checking-current': 1.0, 'descriptions-current': 0.0, 'ror-ids-current': 0.0, 'funders-backfile': 0.05150976909413854, 'licenses-backfile': 0.9917110716400237, 'funders-current': 0.3095238095238095, 'affiliations-backfile': 0.8342214328004737, 'resource-links-backfile': 0.9917110716400237, 'orcids-backfile': 0.1776198934280639, 'update-policies-current': 1.0, 'ror-ids-backfile': 0.0, 'orcids-current': 1.0, 'similarity-checking-backfile': 0.9307282415630551, 'references-backfile': 0.8294849023090586, 'descriptions-backfile': 0.0, 'award-numbers-backfile': 0.03256364712847839, 'update-policies-backfile': 0.4345766725873298, 'licenses-current': 1.0, 'award-numbers-current': 0.2738095238095238, 'abstracts-backfile': 0.7886323268206039, 'resource-links-current': 1.0, 'abstracts-current': 1.0, 'references-current': 1.0}\n",
      "title: Entrepreneurship Theory and Practice\n",
      "subjects: []\n",
      "coverage-type: {'all': {'last-status-check-time': 1739589178608, 'affiliations': 0.8416009019165727, 'abstracts': 0.798196166854566, 'orcids': 0.2164599774520857, 'licenses': 0.9915445321307779, 'references': 0.8370913190529876, 'funders': 0.0636978579481398, 'similarity-checking': 0.9334836527621195, 'award-numbers': 0.0439684329199549, 'ror-ids': 0.0, 'update-policies': 0.4611048478015784, 'resource-links': 0.9915445321307779, 'descriptions': 0.0}, 'backfile': {'last-status-check-time': 1739589178608, 'affiliations': 0.8342214328004737, 'abstracts': 0.7886323268206039, 'orcids': 0.1776198934280639, 'licenses': 0.9917110716400237, 'references': 0.8294849023090586, 'funders': 0.05150976909413854, 'similarity-checking': 0.9307282415630551, 'award-numbers': 0.03256364712847839, 'ror-ids': 0.0, 'update-policies': 0.4345766725873298, 'resource-links': 0.9917110716400237, 'descriptions': 0.0}, 'current': {'last-status-check-time': 1739589178608, 'affiliations': 1.0, 'abstracts': 1.0, 'orcids': 1.0, 'licenses': 1.0, 'references': 1.0, 'funders': 0.3095238095238095, 'similarity-checking': 1.0, 'award-numbers': 0.2738095238095238, 'ror-ids': 0.0, 'update-policies': 1.0, 'resource-links': 1.0, 'descriptions': 0.0}}\n",
      "flags: {'deposits-abstracts-current': True, 'deposits-orcids-current': True, 'deposits': True, 'deposits-affiliations-backfile': True, 'deposits-update-policies-backfile': True, 'deposits-similarity-checking-backfile': True, 'deposits-award-numbers-current': True, 'deposits-resource-links-current': True, 'deposits-ror-ids-current': False, 'deposits-articles': True, 'deposits-affiliations-current': True, 'deposits-funders-current': True, 'deposits-references-backfile': True, 'deposits-ror-ids-backfile': False, 'deposits-abstracts-backfile': True, 'deposits-licenses-backfile': True, 'deposits-award-numbers-backfile': True, 'deposits-descriptions-current': False, 'deposits-references-current': True, 'deposits-resource-links-backfile': True, 'deposits-descriptions-backfile': False, 'deposits-orcids-backfile': True, 'deposits-funders-backfile': True, 'deposits-update-policies-current': True, 'deposits-similarity-checking-current': True, 'deposits-licenses-current': True}\n",
      "ISSN: ['1042-2587', '1540-8520', '1540-6520']\n",
      "issn-type: [{'type': 'print', 'value': '1042-2587'}, {'type': 'electronic', 'value': '1540-8520'}, {'type': None, 'value': '1540-6520'}]\n",
      "--------------------------------------------------------------------------------\n"
     ]
    }
   ],
   "source": [
    "journal_info = {}\n",
    "\n",
    "for journal, issns in journal_issn.items():\n",
    "    if isinstance(issns, list):\n",
    "        journal_info[journal] = []\n",
    "        for issn in issns:\n",
    "            url = f\"https://api.crossref.org/journals/{issn}?mailto={EMAIL}\"\n",
    "            response = requests.get(url)\n",
    "            \n",
    "            if response.status_code == 200:\n",
    "                data = response.json().get(\"message\", {})\n",
    "                journal_info[journal].append(data)\n",
    "            else:\n",
    "                print(f\"Failed to fetch data for {journal} (ISSN: {issn}), status code: {response.status_code}\")\n",
    "    else:\n",
    "        print(f\"No valid ISSN found for {journal}\")\n",
    "\n",
    "# information\n",
    "for journal, entries in journal_info.items():\n",
    "    print(f\"\\nJournal: {journal}\")\n",
    "    for entry in entries:\n",
    "        print(f\"Information:\")\n",
    "        for key, value in entry.items():\n",
    "            print(f\"{key}: {value}\")\n",
    "        print(\"-\" * 80)\n"
   ]
  },
  {
   "cell_type": "code",
   "execution_count": 30,
   "metadata": {},
   "outputs": [
    {
     "name": "stdout",
     "output_type": "stream",
     "text": [
      "Fetched 48 abstracts from Personnel Psychology\n",
      "Fetched 90 abstracts from Personnel Psychology\n",
      "Fetched 136 abstracts from Personnel Psychology\n",
      "Fetched 147 abstracts from Personnel Psychology\n",
      "Fetched 99 abstracts from Entrepreneurship Theory and Practice\n",
      "Fetched 196 abstracts from Entrepreneurship Theory and Practice\n",
      "Fetched 273 abstracts from Entrepreneurship Theory and Practice\n",
      "\n",
      "Summary:\n",
      "Total abstracts collected: 420\n",
      "Personnel Psychology: 147 abstracts\n",
      "Entrepreneurship Theory and Practice: 273 abstracts\n"
     ]
    }
   ],
   "source": [
    "import requests\n",
    "import pandas as pd\n",
    "from bs4 import BeautifulSoup\n",
    "import time\n",
    "\n",
    "# Journal ISSN configurations\n",
    "journals = {\n",
    "    \"Personnel Psychology\": \"1744-6570\",\n",
    "    \"Entrepreneurship Theory and Practice\": \"1540-6520\"\n",
    "}\n",
    "\n",
    "def fetch_journal_abstracts(journal_name, issn, start_date=\"2020-01-01\"):\n",
    "    \"\"\"Fetch all abstracts for a journal since start_date\"\"\"\n",
    "    results = []\n",
    "    offset = 0\n",
    "    rows = 100\n",
    "    \n",
    "    while True:\n",
    "        url = (\n",
    "            f\"https://api.crossref.org/journals/{issn}/works?\"\n",
    "            f\"filter=from-pub-date:{start_date}&rows={rows}&offset={offset}\"\n",
    "        )\n",
    "        \n",
    "        try:\n",
    "            response = requests.get(url)\n",
    "            data = response.json()\n",
    "            items = data[\"message\"][\"items\"]\n",
    "            \n",
    "            if not items:\n",
    "                break\n",
    "                \n",
    "            for item in items:\n",
    "                if \"abstract\" in item:\n",
    "                    # Get basic metadata\n",
    "                    title = item.get(\"title\", [\"\"])[0]\n",
    "                    doi = item.get(\"DOI\", \"\")\n",
    "                    \n",
    "                    # Get and clean abstract\n",
    "                    abstract = BeautifulSoup(item[\"abstract\"], \"html.parser\").get_text()\n",
    "                    \n",
    "                    # Get publication date\n",
    "                    pub_date = None\n",
    "                    if \"published-print\" in item:\n",
    "                        pub_date = item[\"published-print\"][\"date-parts\"][0]\n",
    "                    elif \"published-online\" in item:\n",
    "                        pub_date = item[\"published-online\"][\"date-parts\"][0]\n",
    "                    \n",
    "                    if pub_date:\n",
    "                        pub_date = \"-\".join(map(str, pub_date))\n",
    "                    \n",
    "                    results.append({\n",
    "                        \"Journal\": journal_name,\n",
    "                        \"Title\": title,\n",
    "                        \"Abstract\": abstract,\n",
    "                        \"DOI\": doi,\n",
    "                        \"Published_Date\": pub_date\n",
    "                    })\n",
    "            \n",
    "            print(f\"Fetched {len(results)} abstracts from {journal_name}\")\n",
    "            offset += rows\n",
    "            time.sleep(1)  # Rate limiting\n",
    "            \n",
    "        except Exception as e:\n",
    "            print(f\"Error fetching {journal_name} at offset {offset}: {e}\")\n",
    "            break\n",
    "    \n",
    "    return results\n",
    "\n",
    "# Fetch abstracts for all journals\n",
    "all_results = []\n",
    "for journal, issn in journals.items():\n",
    "    journal_results = fetch_journal_abstracts(journal, issn)\n",
    "    all_results.extend(journal_results)\n",
    "\n",
    "# Create DataFrame\n",
    "df = pd.DataFrame(all_results)\n",
    "\n",
    "# Save to Excel\n",
    "df.to_excel(\"journal_abstracts.xlsx\", index=False)\n",
    "\n",
    "print(\"\\nSummary:\")\n",
    "print(f\"Total abstracts collected: {len(df)}\")\n",
    "for journal in journals:\n",
    "    count = len(df[df['Journal'] == journal])\n",
    "    print(f\"{journal}: {count} abstracts\")"
   ]
  },
  {
   "cell_type": "code",
   "execution_count": 35,
   "metadata": {},
   "outputs": [
    {
     "name": "stderr",
     "output_type": "stream",
     "text": [
      "Cleaning abstracts: 100%|██████████| 420/420 [01:08<00:00,  6.15it/s]"
     ]
    },
    {
     "name": "stdout",
     "output_type": "stream",
     "text": [
      "\n",
      "Done! Results saved to journal_abstracts_cleaned.xlsx\n"
     ]
    },
    {
     "name": "stderr",
     "output_type": "stream",
     "text": [
      "\n"
     ]
    }
   ],
   "source": [
    "import pandas as pd\n",
    "import openai\n",
    "import time\n",
    "from concurrent.futures import ThreadPoolExecutor\n",
    "from tqdm import tqdm\n",
    "\n",
    "# Set your OpenAI API key\n",
    "openai.api_key = 'I deleted it after completing the task'\n",
    "\n",
    "def clean_abstract_with_gpt(abstract):\n",
    "    \"\"\"Remove copyright statements using GPT\"\"\"\n",
    "    try:\n",
    "        response = openai.chat.completions.create(\n",
    "            model=\"gpt-3.5-turbo\",\n",
    "            messages=[\n",
    "                {\"role\": \"system\", \"content\": \"Remove any copyright statements, publisher information, or rights reserved text from the following abstract. Keep only the actual research abstract content.\"},\n",
    "                {\"role\": \"user\", \"content\": abstract}\n",
    "            ],\n",
    "            temperature=0\n",
    "        )\n",
    "        return response.choices[0].message.content.strip()\n",
    "    except Exception as e:\n",
    "        print(f\"Error cleaning abstract: {e}\")\n",
    "        return abstract\n",
    "\n",
    "def process_batch(abstracts):\n",
    "    \"\"\"Process a batch of abstracts using ThreadPoolExecutor\"\"\"\n",
    "    with ThreadPoolExecutor(max_workers=10) as executor:\n",
    "        results = list(tqdm(\n",
    "            executor.map(clean_abstract_with_gpt, abstracts),\n",
    "            total=len(abstracts),\n",
    "            desc=\"Cleaning abstracts\"\n",
    "        ))\n",
    "    return results\n",
    "\n",
    "# Read the original Excel file\n",
    "df = pd.read_excel(\"journal_abstracts.xlsx\")\n",
    "\n",
    "# Create a copy of the original abstract column\n",
    "df['Original_Abstract'] = df['Abstract']\n",
    "\n",
    "# Clean abstracts using parallel processing\n",
    "cleaned_abstracts = process_batch(df['Abstract'].tolist())\n",
    "\n",
    "# Add cleaned abstracts to dataframe\n",
    "df['Cleaned_Abstract'] = cleaned_abstracts\n",
    "\n",
    "# Reorder columns to put abstracts side by side\n",
    "df = df[['Journal', 'Title', 'Original_Abstract', 'Cleaned_Abstract', 'DOI', 'Published_Date']]\n",
    "\n",
    "# Save to new Excel file\n",
    "df.to_excel(\"journal_abstracts_cleaned.xlsx\", index=False)\n",
    "\n",
    "print(\"\\nDone! Results saved to journal_abstracts_cleaned.xlsx\")"
   ]
  },
  {
   "cell_type": "code",
   "execution_count": 9,
   "metadata": {},
   "outputs": [
    {
     "name": "stdout",
     "output_type": "stream",
     "text": [
      "开始获取 OpenAI Embeddings...\n"
     ]
    },
    {
     "name": "stderr",
     "output_type": "stream",
     "text": [
      "Processing abstracts: 100%|██████████| 420/420 [01:36<00:00,  4.34it/s]"
     ]
    },
    {
     "name": "stdout",
     "output_type": "stream",
     "text": [
      "OpenAI Embeddings 计算完成！\n"
     ]
    },
    {
     "name": "stderr",
     "output_type": "stream",
     "text": [
      "\n"
     ]
    }
   ],
   "source": [
    "import pandas as pd\n",
    "from sklearn.feature_extraction.text import TfidfVectorizer\n",
    "from tqdm import tqdm\n",
    "import openai\n",
    "import numpy as np\n",
    "import time  # 用于 sleep 防止 API 速率限制\n",
    "\n",
    "# 读取数据\n",
    "df = pd.read_excel(\"journal_abstracts_cleaned.xlsx\")\n",
    "\n",
    "# TF-IDF 计算\n",
    "tfidf_vectorizer = TfidfVectorizer(max_features=5000)\n",
    "tfidf_matrix = tfidf_vectorizer.fit_transform(df[\"Cleaned_Abstract\"])\n",
    "tfidf_df = pd.DataFrame(tfidf_matrix.toarray(), columns=tfidf_vectorizer.get_feature_names_out())\n",
    "\n",
    "# OpenAI API 设置\n",
    "openai.api_key = \"I deleted it after completing the task\"\n",
    "\n",
    "def get_openai_embedding(text):\n",
    "    \"\"\"获取 OpenAI Embeddings，带错误处理\"\"\"\n",
    "    try:\n",
    "        response = openai.embeddings.create(\n",
    "            input=text,\n",
    "            model=\"text-embedding-ada-002\"\n",
    "        )\n",
    "        return response.data[0].embedding\n",
    "    except Exception as e:\n",
    "        print(f\"错误: {e}\")  # 记录错误信息\n",
    "        return np.zeros(1536)  # 返回零向量，防止代码崩溃（1536 是 OpenAI 这个模型的默认维度）\n",
    "\n",
    "# 处理摘要并添加进度条\n",
    "print(\"开始获取 OpenAI Embeddings...\")\n",
    "openai_embeddings = np.array([\n",
    "    get_openai_embedding(abstract) for abstract in tqdm(df[\"Cleaned_Abstract\"], desc=\"Processing abstracts\")\n",
    "])\n",
    "\n",
    "# 添加类别标签\n",
    "df[\"Category\"] = df[\"Journal\"].apply(lambda x: 1 if x == \"Entrepreneurship Theory and Practice\" else 0)\n",
    "\n",
    "print(\"OpenAI Embeddings 计算完成！\")\n"
   ]
  },
  {
   "cell_type": "code",
   "execution_count": 10,
   "metadata": {},
   "outputs": [
    {
     "name": "stdout",
     "output_type": "stream",
     "text": [
      "TF-IDF matrix shape: (420, 5000)\n",
      "\n",
      "Sample TF-IDF features:\n",
      "   000  003  022   03  035  051   06   08   10  101  ...  yield  yielded  \\\n",
      "0  0.0  0.0  0.0  0.0  0.0  0.0  0.0  0.0  0.0  0.0  ...    0.0      0.0   \n",
      "1  0.0  0.0  0.0  0.0  0.0  0.0  0.0  0.0  0.0  0.0  ...    0.0      0.0   \n",
      "2  0.0  0.0  0.0  0.0  0.0  0.0  0.0  0.0  0.0  0.0  ...    0.0      0.0   \n",
      "3  0.0  0.0  0.0  0.0  0.0  0.0  0.0  0.0  0.0  0.0  ...    0.0      0.0   \n",
      "4  0.0  0.0  0.0  0.0  0.0  0.0  0.0  0.0  0.0  0.0  ...    0.0      0.0   \n",
      "\n",
      "   yielding  yields  young  younger  your  youth  zellweger  zero  \n",
      "0       0.0     0.0    0.0      0.0   0.0    0.0        0.0   0.0  \n",
      "1       0.0     0.0    0.0      0.0   0.0    0.0        0.0   0.0  \n",
      "2       0.0     0.0    0.0      0.0   0.0    0.0        0.0   0.0  \n",
      "3       0.0     0.0    0.0      0.0   0.0    0.0        0.0   0.0  \n",
      "4       0.0     0.0    0.0      0.0   0.0    0.0        0.0   0.0  \n",
      "\n",
      "[5 rows x 5000 columns]\n",
      "OpenAI Embeddings shape: (420, 1536)\n",
      "\n",
      "Sample OpenAI embedding vector (first abstract):\n",
      "[-0.01283075 -0.00580852  0.02262054 ...  0.0042847  -0.02688856\n",
      " -0.03910579]\n"
     ]
    }
   ],
   "source": [
    "print(f\"TF-IDF matrix shape: {tfidf_df.shape}\")  # Number of abstracts × Number of features\n",
    "print(\"\\nSample TF-IDF features:\")\n",
    "print(tfidf_df.head())  # Display first few rows\n",
    "\n",
    "print(f\"OpenAI Embeddings shape: {openai_embeddings.shape}\")  # Should be (num_abstracts, 1536)\n",
    "print(\"\\nSample OpenAI embedding vector (first abstract):\")\n",
    "print(openai_embeddings[0])  # Display first embedding vector\n"
   ]
  },
  {
   "cell_type": "markdown",
   "metadata": {},
   "source": [
    "logistic and random forest"
   ]
  },
  {
   "cell_type": "code",
   "execution_count": 11,
   "metadata": {},
   "outputs": [
    {
     "name": "stdout",
     "output_type": "stream",
     "text": [
      "Logistic Regression Accuracy: 0.7380952380952381\n",
      "Random Forest Accuracy: 0.8809523809523809\n"
     ]
    }
   ],
   "source": [
    "from sklearn.model_selection import train_test_split, GridSearchCV\n",
    "from sklearn.ensemble import RandomForestClassifier\n",
    "from sklearn.linear_model import LogisticRegression\n",
    "from sklearn.metrics import accuracy_score\n",
    "\n",
    "# 训练集和测试集划分\n",
    "X_train, X_test, y_train, y_test = train_test_split(tfidf_df, df[\"Category\"], test_size=0.2, random_state=42)\n",
    "\n",
    "# 训练 Logistic Regression\n",
    "log_reg = LogisticRegression()\n",
    "log_reg.fit(X_train, y_train)\n",
    "y_pred_lr = log_reg.predict(X_test)\n",
    "\n",
    "# 训练 Random Forest\n",
    "rf = RandomForestClassifier()\n",
    "rf.fit(X_train, y_train)\n",
    "y_pred_rf = rf.predict(X_test)\n",
    "\n",
    "# 计算准确率\n",
    "print(\"Logistic Regression Accuracy:\", accuracy_score(y_test, y_pred_lr))\n",
    "print(\"Random Forest Accuracy:\", accuracy_score(y_test, y_pred_rf))\n"
   ]
  },
  {
   "cell_type": "code",
   "execution_count": 12,
   "metadata": {},
   "outputs": [
    {
     "name": "stdout",
     "output_type": "stream",
     "text": [
      "Logistic Regression (OpenAI) Accuracy: 0.9642857142857143\n",
      "Random Forest (OpenAI) Accuracy: 0.9761904761904762\n"
     ]
    }
   ],
   "source": [
    "X_train_oai, X_test_oai, y_train, y_test = train_test_split(openai_embeddings, df[\"Category\"], test_size=0.2, random_state=42)\n",
    "\n",
    "# 训练 Logistic Regression\n",
    "log_reg_oai = LogisticRegression()\n",
    "log_reg_oai.fit(X_train_oai, y_train)\n",
    "y_pred_lr_oai = log_reg_oai.predict(X_test_oai)\n",
    "\n",
    "# 训练 Random Forest\n",
    "rf_oai = RandomForestClassifier()\n",
    "rf_oai.fit(X_train_oai, y_train)\n",
    "y_pred_rf_oai = rf_oai.predict(X_test_oai)\n",
    "\n",
    "# 计算准确率\n",
    "print(\"Logistic Regression (OpenAI) Accuracy:\", accuracy_score(y_test, y_pred_lr_oai))\n",
    "print(\"Random Forest (OpenAI) Accuracy:\", accuracy_score(y_test, y_pred_rf_oai))\n"
   ]
  },
  {
   "cell_type": "code",
   "execution_count": 13,
   "metadata": {},
   "outputs": [
    {
     "name": "stdout",
     "output_type": "stream",
     "text": [
      "Best parameters for TF-IDF + Logistic Regression: {'C': 100}\n"
     ]
    }
   ],
   "source": [
    "from sklearn.model_selection import GridSearchCV\n",
    "from sklearn.linear_model import LogisticRegression\n",
    "\n",
    "param_grid = {\n",
    "    'C': [0.01, 0.1, 1, 10, 100]  # 正则化参数\n",
    "}\n",
    "\n",
    "grid_search = GridSearchCV(LogisticRegression(), param_grid, cv=5)\n",
    "grid_search.fit(tfidf_matrix, df[\"Category\"])\n",
    "\n",
    "print(\"Best parameters for TF-IDF + Logistic Regression:\", grid_search.best_params_)\n"
   ]
  },
  {
   "cell_type": "code",
   "execution_count": 14,
   "metadata": {},
   "outputs": [
    {
     "name": "stdout",
     "output_type": "stream",
     "text": [
      "Best parameters for TF-IDF + Random Forest: {'max_depth': None, 'n_estimators': 200}\n"
     ]
    }
   ],
   "source": [
    "from sklearn.ensemble import RandomForestClassifier\n",
    "\n",
    "param_grid = {\n",
    "    \"n_estimators\": [50, 100, 200],  # 树的数量\n",
    "    \"max_depth\": [None, 10, 20, 30]  # 树的深度\n",
    "}\n",
    "\n",
    "grid_search = GridSearchCV(RandomForestClassifier(), param_grid, cv=5)\n",
    "grid_search.fit(tfidf_matrix, df[\"Category\"])\n",
    "\n",
    "print(\"Best parameters for TF-IDF + Random Forest:\", grid_search.best_params_)\n"
   ]
  },
  {
   "cell_type": "code",
   "execution_count": 19,
   "metadata": {},
   "outputs": [
    {
     "name": "stdout",
     "output_type": "stream",
     "text": [
      "Best parameters for OpenAI Embeddings + Logistic Regression: {'C': 100}\n"
     ]
    }
   ],
   "source": [
    "param_grid_lr = {\n",
    "    'C': [0.01, 0.1, 1, 10, 100]  # 正则化参数\n",
    "    }\n",
    "grid_search_lr_oai = GridSearchCV(LogisticRegression(), param_grid_lr, cv=5)\n",
    "grid_search_lr_oai.fit(openai_embeddings, df[\"Category\"])\n",
    "\n",
    "print(\"Best parameters for OpenAI Embeddings + Logistic Regression:\", grid_search_lr_oai.best_params_)\n"
   ]
  },
  {
   "cell_type": "code",
   "execution_count": 20,
   "metadata": {},
   "outputs": [
    {
     "name": "stdout",
     "output_type": "stream",
     "text": [
      "Best parameters for OpenAI Embeddings + Random Forest: {'max_depth': 10, 'n_estimators': 200}\n"
     ]
    }
   ],
   "source": [
    "param_grid_rf = {\n",
    "    \"n_estimators\": [50, 100, 200],  # 树的数量\n",
    "    \"max_depth\": [None, 10, 20, 30]  # 树的深度\n",
    "}\n",
    "grid_search_rf_oai = GridSearchCV(RandomForestClassifier(), param_grid_rf, cv=5)\n",
    "grid_search_rf_oai.fit(openai_embeddings, df[\"Category\"])\n",
    "\n",
    "print(\"Best parameters for OpenAI Embeddings + Random Forest:\", grid_search_rf_oai.best_params_)\n"
   ]
  },
  {
   "cell_type": "code",
   "execution_count": 21,
   "metadata": {},
   "outputs": [],
   "source": [
    "from sklearn.metrics import accuracy_score\n",
    "\n",
    "# 重新训练 TF-IDF + Logistic Regression\n",
    "log_reg_tfidf = LogisticRegression(C=100)\n",
    "log_reg_tfidf.fit(X_train, y_train)\n",
    "y_pred_lr_tfidf = log_reg_tfidf.predict(X_test)\n",
    "\n",
    "# 重新训练 TF-IDF + Random Forest\n",
    "rf_tfidf = RandomForestClassifier(max_depth=None, n_estimators=200)\n",
    "rf_tfidf.fit(X_train, y_train)\n",
    "y_pred_rf_tfidf = rf_tfidf.predict(X_test)\n",
    "\n",
    "# 重新训练 OpenAI Embeddings + Logistic Regression\n",
    "log_reg_oai = LogisticRegression(C=100)\n",
    "log_reg_oai.fit(X_train_oai, y_train)\n",
    "y_pred_lr_oai = log_reg_oai.predict(X_test_oai)\n",
    "\n",
    "# 重新训练 OpenAI Embeddings + Random Forest\n",
    "rf_oai = RandomForestClassifier(max_depth=10, n_estimators=200)\n",
    "rf_oai.fit(X_train_oai, y_train)\n",
    "y_pred_rf_oai = rf_oai.predict(X_test_oai)\n"
   ]
  },
  {
   "cell_type": "code",
   "execution_count": 23,
   "metadata": {},
   "outputs": [
    {
     "name": "stdout",
     "output_type": "stream",
     "text": [
      "\n",
      "TF-IDF + Logistic Regression:\n",
      "Accuracy: 0.9405\n",
      "Precision: 0.9074\n",
      "Recall: 1.0000\n",
      "F1 Score: 0.9515\n",
      "MCC: 0.8819\n",
      "\n",
      "TF-IDF + Random Forest:\n",
      "Accuracy: 0.9048\n",
      "Precision: 0.8596\n",
      "Recall: 1.0000\n",
      "F1 Score: 0.9245\n",
      "MCC: 0.8143\n",
      "\n",
      "OpenAI Embeddings + Logistic Regression:\n",
      "Accuracy: 1.0000\n",
      "Precision: 1.0000\n",
      "Recall: 1.0000\n",
      "F1 Score: 1.0000\n",
      "MCC: 1.0000\n",
      "\n",
      "OpenAI Embeddings + Random Forest:\n",
      "Accuracy: 0.9643\n",
      "Precision: 0.9423\n",
      "Recall: 1.0000\n",
      "F1 Score: 0.9703\n",
      "MCC: 0.9282\n"
     ]
    }
   ],
   "source": [
    "# 计算准确率\n",
    "accuracy_tfidf_lr = accuracy_score(y_test, y_pred_lr_tfidf)\n",
    "accuracy_tfidf_rf = accuracy_score(y_test, y_pred_rf_tfidf)\n",
    "accuracy_oai_lr = accuracy_score(y_test, y_pred_lr_oai)\n",
    "accuracy_oai_rf = accuracy_score(y_test, y_pred_rf_oai)\n",
    "\n",
    "# 打印结果\n",
    "from sklearn.metrics import accuracy_score, precision_score, recall_score, f1_score, matthews_corrcoef\n",
    "\n",
    "# 假设你已经有了 y_test 和各个模型的预测结果，比如 y_pred_lr_tfidf, y_pred_rf_tfidf, ...\n",
    "\n",
    "def print_metrics(y_true, y_pred, model_name):\n",
    "    acc = accuracy_score(y_true, y_pred)\n",
    "    prec = precision_score(y_true, y_pred)\n",
    "    rec = recall_score(y_true, y_pred)\n",
    "    f1 = f1_score(y_true, y_pred)\n",
    "    mcc = matthews_corrcoef(y_true, y_pred)\n",
    "    print(f\"\\n{model_name}:\")\n",
    "    print(f\"Accuracy: {acc:.4f}\")\n",
    "    print(f\"Precision: {prec:.4f}\")\n",
    "    print(f\"Recall: {rec:.4f}\")\n",
    "    print(f\"F1 Score: {f1:.4f}\")\n",
    "    print(f\"MCC: {mcc:.4f}\")\n",
    "\n",
    "# 对 TF-IDF + Logistic Regression 结果计算指标\n",
    "print_metrics(y_test, y_pred_lr_tfidf, \"TF-IDF + Logistic Regression\")\n",
    "\n",
    "# 对 TF-IDF + Random Forest 结果计算指标\n",
    "print_metrics(y_test, y_pred_rf_tfidf, \"TF-IDF + Random Forest\")\n",
    "\n",
    "# 对 OpenAI Embeddings + Logistic Regression 结果计算指标\n",
    "print_metrics(y_test, y_pred_lr_oai, \"OpenAI Embeddings + Logistic Regression\")\n",
    "\n",
    "# 对 OpenAI Embeddings + Random Forest 结果计算指标\n",
    "print_metrics(y_test, y_pred_rf_oai, \"OpenAI Embeddings + Random Forest\")\n",
    "\n"
   ]
  },
  {
   "cell_type": "markdown",
   "metadata": {},
   "source": [
    "get jom articles, 20"
   ]
  },
  {
   "cell_type": "code",
   "execution_count": null,
   "metadata": {},
   "outputs": [
    {
     "name": "stdout",
     "output_type": "stream",
     "text": [
      "已将随机20篇摘要保存到 JOM_Abstracts.xlsx\n"
     ]
    }
   ],
   "source": [
    "import requests\n",
    "import pandas as pd\n",
    "import random\n",
    "from bs4 import BeautifulSoup\n",
    "import time\n",
    "\n",
    "issn = \"1557-1211\"\n",
    "start_date = \"2020-01-01\"\n",
    "rows = 100    # 每次请求获取100条记录\n",
    "offset = 0\n",
    "results = []\n",
    "\n",
    "# 当收集到的摘要不足20篇时，继续翻页请求\n",
    "while len(results) < 20:\n",
    "    url = f\"https://api.crossref.org/journals/{issn}/works?filter=from-pub-date:{start_date}&rows={rows}&offset={offset}\"\n",
    "    response = requests.get(url)\n",
    "    data = response.json()\n",
    "    items = data[\"message\"][\"items\"]\n",
    "    \n",
    "    if not items:\n",
    "        break  # 无更多数据时退出循环\n",
    "    \n",
    "    for item in items:\n",
    "        if \"abstract\" in item:\n",
    "            title = item.get(\"title\", [\"\"])[0]\n",
    "            doi = item.get(\"DOI\", \"\")\n",
    "            # 获取期刊名称，一般存放在 container-title 字段中\n",
    "            journal_name = item.get(\"container-title\", [\"\"])[0]\n",
    "            # 清除摘要中的HTML标签\n",
    "            abstract = BeautifulSoup(item[\"abstract\"], \"html.parser\").get_text()\n",
    "            results.append({\n",
    "                \"Journal\": journal_name,\n",
    "                \"Title\": title,\n",
    "                \"DOI\": doi,\n",
    "                \"Abstract\": abstract\n",
    "            })\n",
    "            if len(results) >= 20:\n",
    "                break\n",
    "    offset += rows\n",
    "    time.sleep(1)  # 暂停1秒以防请求过快\n",
    "\n",
    "# 如果获取到的结果多于20篇，随机抽取20篇\n",
    "if len(results) > 20:\n",
    "    results = random.sample(results, 20)\n",
    "\n",
    "# 保存到 Excel 文件\n",
    "df = pd.DataFrame(results)\n",
    "df.to_excel(\"JOM_Abstracts.xlsx\", index=False)\n",
    "print(\"已将随机20篇摘要保存到 JOM_Abstracts.xlsx\")\n"
   ]
  },
  {
   "cell_type": "code",
   "execution_count": 45,
   "metadata": {},
   "outputs": [
    {
     "name": "stdout",
     "output_type": "stream",
     "text": [
      "Confusion Matrix:\n",
      "[[6 0]\n",
      " [5 9]]\n",
      "\n",
      "Classification Report:\n",
      "              precision    recall  f1-score   support\n",
      "\n",
      "          ob       0.55      1.00      0.71         6\n",
      "         ent       1.00      0.64      0.78        14\n",
      "\n",
      "    accuracy                           0.75        20\n",
      "   macro avg       0.77      0.82      0.74        20\n",
      "weighted avg       0.86      0.75      0.76        20\n",
      "\n"
     ]
    },
    {
     "data": {
      "image/png": "[encoded data removed]",
      "text/plain": [
       "<Figure size 600x400 with 2 Axes>"
      ]
     },
     "metadata": {},
     "output_type": "display_data"
    }
   ],
   "source": [
    "import pandas as pd\n",
    "import numpy as np\n",
    "import openai\n",
    "from sklearn.metrics import confusion_matrix, classification_report\n",
    "import seaborn as sns\n",
    "import matplotlib.pyplot as plt\n",
    "\n",
    "# Set your OpenAI API key\n",
    "openai.api_key = \"I deleted it after completing the task\"\n",
    "\n",
    "# Function to obtain an embedding vector for a given text using the new API interface\n",
    "def get_embedding(text, model=\"text-embedding-ada-002\"):\n",
    "    response = openai.embeddings.create(\n",
    "        input=[text],  # The input should be a list of texts\n",
    "        model=model\n",
    "    )\n",
    "    return response.data[0].embedding\n",
    "\n",
    "# Read data from the Excel file\n",
    "df = pd.read_excel(\"JOM_Abstracts.xlsx\")\n",
    "\n",
    "# Map manual coding categories to numeric labels (e.g., \"ob\" -> 0, \"ent\" -> 1)\n",
    "label_mapping = {\"ob\": 0, \"ent\": 1}\n",
    "df[\"category_numeric\"] = df[\"category\"].map(label_mapping)\n",
    "\n",
    "# Fill missing abstracts with an empty string and convert to a list\n",
    "abstracts = df[\"Abstract\"].fillna(\"\").tolist()\n",
    "\n",
    "# Get OpenAI embeddings for each abstract (this may take a while if there are many abstracts)\n",
    "embeddings = np.array([get_embedding(text) for text in abstracts])\n",
    "\n",
    "# Use the pre-trained OpenAI + Logistic Regression model (with C=100) to make predictions.\n",
    "# Here we assume that 'log_reg_oai' is your already trained model.\n",
    "predictions = log_reg_oai.predict(embeddings)\n",
    "\n",
    "# Generate the confusion matrix and classification report\n",
    "cm = confusion_matrix(df[\"category_numeric\"], predictions)\n",
    "print(\"Confusion Matrix:\")\n",
    "print(cm)\n",
    "\n",
    "print(\"\\nClassification Report:\")\n",
    "print(classification_report(df[\"category_numeric\"], predictions, target_names=[\"ob\", \"ent\"]))\n",
    "\n",
    "# Visualize the confusion matrix using a heatmap\n",
    "plt.figure(figsize=(6, 4))\n",
    "sns.heatmap(cm, annot=True, fmt=\"d\", cmap=\"Blues\", xticklabels=[\"ob\", \"ent\"], yticklabels=[\"ob\", \"ent\"])\n",
    "plt.xlabel(\"Predicted Label\")\n",
    "plt.ylabel(\"True Label\")\n",
    "plt.title(\"Confusion Matrix\")\n",
    "plt.show()\n"
   ]
  }
 ],
 "metadata": {
  "kernelspec": {
   "display_name": "Python 3",
   "language": "python",
   "name": "python3"
  },
  "language_info": {
   "codemirror_mode": {
    "name": "ipython",
    "version": 3
   },
   "file_extension": ".py",
   "mimetype": "text/x-python",
   "name": "python",
   "nbconvert_exporter": "python",
   "pygments_lexer": "ipython3",
   "version": "3.12.8"
  }
 },
 "nbformat": 4,
 "nbformat_minor": 2
}
