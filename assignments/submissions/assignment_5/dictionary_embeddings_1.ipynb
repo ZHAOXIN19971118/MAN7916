{
 "cells": [
  {
   "cell_type": "code",
   "execution_count": null,
   "metadata": {},
   "outputs": [
    {
     "name": "stdout",
     "output_type": "stream",
     "text": [
      "Local data path: C:\\Users\\Administrator\\Desktop\\MAN7916\\local_data\n",
      "Downloading GloVe embeddings... This may take a while.\n",
      "Download complete.\n"
     ]
    }
   ],
   "source": [
    "from pathlib import Path\n",
    "\n",
    "# 设置 local_data 目录路径\n",
    "local_data_path = Path(r\"C:\\Users\\Administrator\\Desktop\\MAN7916\\local_data\")\n",
    "\n",
    "# 确保 local_data 目录存在\n",
    "local_data_path.mkdir(parents=True, exist_ok=True)\n",
    "\n",
    "print(f\"Local data path: {local_data_path}\")\n",
    "\n",
    "import requests\n",
    "\n",
    "glove_url = \"http://nlp.stanford.edu/data/glove.6B.zip\"\n",
    "glove_zip_path = local_data_path / \"glove.6B.zip\"\n",
    "\n",
    "if not glove_zip_path.exists():\n",
    "    print(\"Downloading GloVe embeddings... This may take a while.\")\n",
    "    response = requests.get(glove_url, stream=True)\n",
    "    response.raise_for_status()\n",
    "    \n",
    "    with open(glove_zip_path, \"wb\") as f:\n",
    "        for chunk in response.iter_content(chunk_size=8192):\n",
    "            f.write(chunk)\n",
    "    \n",
    "    print(\"Download complete.\")\n",
    "else:\n",
    "    print(\"GloVe embeddings already downloaded.\")\n",
    "\n"
   ]
  },
  {
   "cell_type": "code",
   "execution_count": 5,
   "metadata": {},
   "outputs": [
    {
     "name": "stdout",
     "output_type": "stream",
     "text": [
      "Unzipping GloVe embeddings...\n",
      "Unzipped GloVe embeddings.\n"
     ]
    }
   ],
   "source": [
    "import zipfile\n",
    "\n",
    "if glove_zip_path.exists():\n",
    "    print(\"Unzipping GloVe embeddings...\")\n",
    "    with zipfile.ZipFile(glove_zip_path, \"r\") as zip_ref:\n",
    "        zip_ref.extractall(local_data_path)\n",
    "    print(\"Unzipped GloVe embeddings.\")\n"
   ]
  },
  {
   "cell_type": "code",
   "execution_count": 6,
   "metadata": {},
   "outputs": [
    {
     "name": "stdout",
     "output_type": "stream",
     "text": [
      "Downloaded GloVe files:\n",
      "C:\\Users\\Administrator\\Desktop\\MAN7916\\local_data\\glove.6B.100d.txt\n",
      "C:\\Users\\Administrator\\Desktop\\MAN7916\\local_data\\glove.6B.200d.txt\n",
      "C:\\Users\\Administrator\\Desktop\\MAN7916\\local_data\\glove.6B.300d.txt\n",
      "C:\\Users\\Administrator\\Desktop\\MAN7916\\local_data\\glove.6B.50d.txt\n",
      "C:\\Users\\Administrator\\Desktop\\MAN7916\\local_data\\glove.6B.zip\n"
     ]
    }
   ],
   "source": [
    "glove_files = list(local_data_path.glob(\"*glove*\"))\n",
    "print(\"Downloaded GloVe files:\")\n",
    "for file in glove_files:\n",
    "    print(file)\n"
   ]
  },
  {
   "cell_type": "code",
   "execution_count": 5,
   "metadata": {},
   "outputs": [],
   "source": [
    "import gensim\n",
    "import numpy as np\n",
    "import pandas as pd\n",
    "from scipy.spatial.distance import cosine\n",
    "from collections import Counter\n",
    "from docx import Document\n",
    "\n",
    "# File paths\n",
    "glove_path = \"C:/Users/Administrator/Desktop/MAN7916/local_data/glove.6B.100d.txt\"\n",
    "article_path = \"C:/Users/Administrator/Desktop/MAN7916/assignments/materials/week_4/article_preprint.txt\"\n",
    "csv_output_path = \"C:/Users/Administrator/Desktop/MAN7916/assignments/submissions/assignment_5/word_list_for_evaluation.csv\"\n",
    "docx_output_path = \"C:/Users/Administrator/Desktop/MAN7916/assignments/submissions/assignment_5/word_embedding_results.docx\"\n",
    "\n",
    "# Load GloVe model\n",
    "def load_glove_model(file_path):\n",
    "    model = {}\n",
    "    with open(file_path, \"r\", encoding=\"utf-8\") as f:\n",
    "        for line in f:\n",
    "            split_line = line.split()\n",
    "            word = split_line[0]\n",
    "            embedding = np.array([float(val) for val in split_line[1:]], dtype=np.float32)\n",
    "            model[word] = embedding\n",
    "    return model\n",
    "\n",
    "glove_model = load_glove_model(glove_path)\n",
    "\n",
    "def cosine_similarity(vec1, vec2):\n",
    "    return 1 - cosine(vec1, vec2)\n",
    "\n",
    "# Root words\n",
    "root_words = [\"entrepreneurial\", \"creative\", \"innovative\", \"trailblazing\"]\n",
    "word_vectors = {word: glove_model[word] for word in root_words if word in glove_model}"
   ]
  },
  {
   "cell_type": "code",
   "execution_count": 6,
   "metadata": {},
   "outputs": [
    {
     "name": "stdout",
     "output_type": "stream",
     "text": [
      "Results saved to C:/Users/Administrator/Desktop/MAN7916/assignments/submissions/assignment_5/word_embedding_results.docx and C:/Users/Administrator/Desktop/MAN7916/assignments/submissions/assignment_5/word_list_for_evaluation.csv\n"
     ]
    }
   ],
   "source": [
    "# Compute pairwise cosine similarities\n",
    "similarities = {}\n",
    "for i, word1 in enumerate(root_words):\n",
    "    for j, word2 in enumerate(root_words):\n",
    "        if i < j and word1 in word_vectors and word2 in word_vectors:\n",
    "            similarities[(word1, word2)] = cosine_similarity(word_vectors[word1], word_vectors[word2])\n",
    "\n",
    "# Identify the word with the lowest average similarity\n",
    "avg_similarities = {word: np.mean([sim for (w1, w2), sim in similarities.items() if w1 == word or w2 == word]) for word in root_words}\n",
    "worst_word = min(avg_similarities, key=avg_similarities.get)\n",
    "\n",
    "# Drop the least similar word\n",
    "root_words.remove(worst_word)\n",
    "\n",
    "# Compute average vector\n",
    "average_vector = np.mean([word_vectors[word] for word in root_words], axis=0)\n",
    "\n",
    "# Save results to Word file\n",
    "doc = Document()\n",
    "doc.add_heading(\"Word Embedding Results\", level=1)\n",
    "\n",
    "doc.add_heading(\"Pairwise Cosine Similarities\", level=2)\n",
    "for (w1, w2), sim in similarities.items():\n",
    "    doc.add_paragraph(f\"{w1} - {w2}: {sim:.4f}\")\n",
    "\n",
    "doc.add_heading(\"Removed Root Word\", level=2)\n",
    "doc.add_paragraph(f\"Removed word: {worst_word}\")\n",
    "\n",
    "doc.add_heading(\"Average Vector (First 5 Dimensions)\", level=2)\n",
    "doc.add_paragraph(str(average_vector[:5]))\n",
    "\n",
    "doc.add_heading(\"Cosine Similarities to Average Vector\", level=2)\n",
    "for word in root_words:\n",
    "    doc.add_paragraph(f\"{word}: {cosine_similarity(average_vector, word_vectors[word]):.4f}\")\n",
    "\n",
    "doc.save(docx_output_path)\n",
    "\n",
    "# Find 50 closest words to average vector\n",
    "def find_similar_words(glove_model, vector, top_n=50):\n",
    "    similarities = {word: cosine_similarity(vector, vec) for word, vec in glove_model.items()}\n",
    "    return sorted(similarities.items(), key=lambda x: x[1], reverse=True)[:top_n]\n",
    "\n",
    "deductive_words = find_similar_words(glove_model, average_vector)\n",
    "\n",
    "def get_words_from_text(file_path):\n",
    "    with open(file_path, \"r\", encoding=\"utf-8\") as f:\n",
    "        text = f.read().lower().split()\n",
    "    return set(text) & set(glove_model.keys())\n",
    "\n",
    "text_words = get_words_from_text(article_path)\n",
    "inductive_words = find_similar_words(glove_model, average_vector, top_n=50)\n",
    "\n",
    "# Merge lists and remove duplicates\n",
    "word_list = {word: score for word, score in deductive_words}\n",
    "for word, score in inductive_words:\n",
    "    word_list[word] = score\n",
    "\n",
    "# Save to CSV\n",
    "df = pd.DataFrame(list(word_list.items()), columns=[\"word\", \"score\"])\n",
    "df[\"eval\"] = \"\"\n",
    "df.to_csv(csv_output_path, index=False)\n",
    "\n",
    "print(f\"Results saved to {docx_output_path} and {csv_output_path}\")\n"
   ]
  }
 ],
 "metadata": {
  "kernelspec": {
   "display_name": "Python 3",
   "language": "python",
   "name": "python3"
  },
  "language_info": {
   "codemirror_mode": {
    "name": "ipython",
    "version": 3
   },
   "file_extension": ".py",
   "mimetype": "text/x-python",
   "name": "python",
   "nbconvert_exporter": "python",
   "pygments_lexer": "ipython3",
   "version": "3.12.8"
  }
 },
 "nbformat": 4,
 "nbformat_minor": 2
}
