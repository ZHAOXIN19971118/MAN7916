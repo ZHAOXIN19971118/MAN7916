{
 "cells": [
  {
   "cell_type": "code",
   "execution_count": 5,
   "metadata": {},
   "outputs": [
    {
     "name": "stdout",
     "output_type": "stream",
     "text": [
      "\u001b[38;5;2m✔ Download and installation successful\u001b[0m\n",
      "You can now load the package via spacy.load('en_core_web_sm')\n",
      "\u001b[38;5;3m⚠ Restart to reload dependencies\u001b[0m\n",
      "If you are in a Jupyter or Colab notebook, you may need to restart Python in\n",
      "order to load all the package's dependencies. You can do this by selecting the\n",
      "'Restart kernel' or 'Restart runtime' option.\n"
     ]
    }
   ],
   "source": [
    "import os\n",
    "import pandas as pd\n",
    "import matplotlib.pyplot as plt\n",
    "from collections import Counter\n",
    "import spacy\n",
    "import spacy.cli\n",
    "spacy.cli.download(\"en_core_web_sm\")\n",
    "\n",
    "\n",
    "# Load SpaCy's English model\n",
    "nlp = spacy.load(\"en_core_web_sm\")\n",
    "\n",
    "# Folder path\n",
    "folder_path = 'C:/Users/Administrator/Desktop/MAN7916/local_data/About'\n",
    "\n",
    "# Read .txt files into a DataFrame\n",
    "file_data = []\n",
    "for file in os.listdir(folder_path):\n",
    "    if file.endswith('.txt'):\n",
    "        filepath = os.path.join(folder_path, file)\n",
    "        with open(filepath, 'r', encoding='utf-8') as f:\n",
    "            text = f.read()\n",
    "        file_data.append({\n",
    "            'name': os.path.splitext(file)[0],\n",
    "            'filepath': filepath,\n",
    "            'text': text\n",
    "        })\n",
    "\n",
    "df = pd.DataFrame(file_data)\n",
    "\n",
    "# Preprocessing functions\n",
    "def preprocess_text(doc, remove_stopwords):\n",
    "    tokens = []\n",
    "    for token in doc:\n",
    "        if token.is_alpha:  # Keep only alphabetic tokens\n",
    "            if not remove_stopwords or (remove_stopwords and not token.is_stop):\n",
    "                tokens.append(token.text.lower())\n",
    "    return tokens\n",
    "\n"
   ]
  },
  {
   "cell_type": "code",
   "execution_count": 6,
   "metadata": {},
   "outputs": [
    {
     "name": "stdout",
     "output_type": "stream",
     "text": [
      "Processing complete. Figures saved in the 'assignment_4' folder.\n"
     ]
    }
   ],
   "source": [
    "# Apply SpaCy preprocessing\n",
    "preprocessed_ws = []\n",
    "preprocessed_wos = []\n",
    "\n",
    "for doc in nlp.pipe(df['text']):\n",
    "    preprocessed_ws.append(preprocess_text(doc, remove_stopwords=False))\n",
    "    preprocessed_wos.append(preprocess_text(doc, remove_stopwords=True))\n",
    "\n",
    "df['preprocessed_ws'] = preprocessed_ws\n",
    "df['preprocessed_wos'] = preprocessed_wos\n",
    "\n",
    "# Count word frequencies\n",
    "def get_word_frequencies(token_lists):\n",
    "    counter = Counter()\n",
    "    for tokens in token_lists:\n",
    "        counter.update(tokens)\n",
    "    return counter\n",
    "\n",
    "counter_ws = get_word_frequencies(df['preprocessed_ws'])\n",
    "counter_wos = get_word_frequencies(df['preprocessed_wos'])\n",
    "\n",
    "# Plot top 100 words\n",
    "def plot_top_words(counter, title, output_path):\n",
    "    most_common = counter.most_common(100)\n",
    "    words, counts = zip(*most_common)\n",
    "\n",
    "    plt.figure(figsize=(20, 8))\n",
    "    plt.bar(words, counts)\n",
    "    plt.title(title, fontsize=16)\n",
    "    plt.xticks(rotation=90)\n",
    "    plt.xlabel(\"Words\", fontsize=12)\n",
    "    plt.ylabel(\"Frequency\", fontsize=12)\n",
    "    plt.tight_layout()\n",
    "    plt.savefig(output_path)\n",
    "    plt.close()\n",
    "\n",
    "# Output folder for assignment\n",
    "output_folder = 'C:/Users/Administrator/Desktop/MAN7916/assignments/submissions/assignment_4'\n",
    "os.makedirs(output_folder, exist_ok=True)\n",
    "\n",
    "# Save figures\n",
    "plot_top_words(counter_ws, \"Top 100 Words (With Stopwords)\", os.path.join(output_folder, 'common100_ws.jpg'))\n",
    "plot_top_words(counter_wos, \"Top 100 Words (Without Stopwords)\", os.path.join(output_folder, 'common100_wos.jpg'))\n",
    "\n",
    "print(\"Processing complete. Figures saved in the 'assignment_4' folder.\")\n"
   ]
  },
  {
   "cell_type": "markdown",
   "metadata": {},
   "source": [
    "innovation"
   ]
  },
  {
   "cell_type": "code",
   "execution_count": 7,
   "metadata": {},
   "outputs": [
    {
     "name": "stdout",
     "output_type": "stream",
     "text": [
      "Innovativeness analysis complete. Files saved in the 'assignment_4' folder.\n"
     ]
    }
   ],
   "source": [
    "# Step 4: Filter by Innovativeness Dictionary\n",
    "# List of words from the 'Innovativeness' dictionary\n",
    "innovativeness_dict = [\n",
    "    \"ad lib\", \"adroit\", \"adroitness\", \"bright idea\", \"clever\", \"cleverness\", \"conceive\", \"concoct\", \"concoction\", \n",
    "    \"concoctive\", \"conjure up\", \"creative\", \"creativity\", \"develop\", \"developed\", \"dream\", \"dream up\", \"expert\", \n",
    "    \"formulation\", \"freethinker\", \"genesis\", \"genius\", \"gifted\", \"hit upon\", \"imagination\", \"imaginative\", \"improvise\", \n",
    "    \"ingenious\", \"ingenuity\", \"innovate\", \"innovated\", \"innovates\", \"innovating\", \"innovation\", \"innovations\", \n",
    "    \"innovative\", \"innovativeness\", \"introduced\", \"introducing\", \"introduction\", \"introductions\", \"invent\", \"invented\", \n",
    "    \"invention\", \"inventive\", \"inventiveness\", \"inventor\", \"launch\", \"launched\", \"launching\", \"master stroke\", \"mastermind\", \n",
    "    \"metamorphose\", \"metamorphosis\", \"neoteric\", \"neoterism\", \"neoterize\", \"new capabilities\", \"new capability\", \n",
    "    \"new compounds\", \"new content\", \"new core areas\", \"new course\", \"new directions\", \"new family\", \"new features\", \n",
    "    \"new generation\", \"new generations\", \"new idea\", \"new ideas\", \"new line of business\", \"new medicine\", \"new medicines\", \n",
    "    \"new molecular entities\", \"new pharmaceuticals\", \"new platform\", \"new process\", \"new processes\", \"new product\", \n",
    "    \"new products\", \"new solutions\", \"new systems\", \"new technique\", \"new techniques\", \"new technologies\", \"new technology\", \n",
    "    \"new therapies\", \"new thinking\", \"new tools\", \"new treatments\", \"new ways\", \"new wrinkle\", \"new-generation\", \n",
    "    \"new-product\", \"next generation\", \"next-generation\", \"novation\", \"novel\", \"novelty\", \"patent\", \"patented\", \"patents\", \n",
    "    \"process development\", \"product development\", \"product launch\", \"product launches\", \"proprietary\", \"prototype\", \n",
    "    \"prototyping\", \"push the envelope\", \"R&D\", \"radical\", \"re-engineering\", \"reformulated\", \"refreshed\", \"reinvent\", \n",
    "    \"re-invent\", \"reinvented\", \"reinventing\", \"reinvention\", \"reinvents\", \"released\", \"renewal\", \"renewing\", \"research\", \n",
    "    \"reshape\", \"reshaped\", \"reshapes\", \"reshaping\", \"resourceful\", \"resourcefulness\", \"restyle\", \"restyling\", \n",
    "    \"revolutionary\", \"revolutionize\", \"revolutionized\", \"roll out\", \"rolled out\", \"see things\", \"technologically advanced\", \n",
    "    \"think up\", \"trademark\", \"transform\", \"transformation\", \"transformed\", \"transforming\", \"visualize\"]\n",
    "\n",
    "\n",
    "# Filter Counter for only the words in the 'Innovativeness' dictionary\n",
    "filtered_innovativeness = {word: count for word, count in counter_ws.items() if word in innovativeness_dict}\n",
    "\n",
    "# Sort by frequency and get the top 20 (if available)\n",
    "sorted_innovativeness = dict(sorted(filtered_innovativeness.items(), key=lambda x: x[1], reverse=True)[:20])\n",
    "\n",
    "# Plot top Innovativeness words\n",
    "def plot_innovativeness_words(sorted_innov, output_path):\n",
    "    words = list(sorted_innov.keys())\n",
    "    counts = list(sorted_innov.values())\n",
    "\n",
    "    plt.figure(figsize=(10, 6))\n",
    "    plt.plot(words, counts, marker='o')\n",
    "    plt.title(\"Top Innovativeness Words\")\n",
    "    plt.xlabel(\"Words\")\n",
    "    plt.ylabel(\"Frequency\")\n",
    "    plt.xticks(rotation=45)\n",
    "    plt.tight_layout()\n",
    "    plt.savefig(output_path)\n",
    "    plt.close()\n",
    "\n",
    "# Save innovativeness chart\n",
    "innov_chart_path = os.path.join(output_folder, 'innov_freqs.jpg')\n",
    "plot_innovativeness_words(sorted_innovativeness, innov_chart_path)\n",
    "\n",
    "# Add 'innov_ws' and 'innov_perwd_ws' columns\n",
    "def count_innov_words(words, innov_dict):\n",
    "    return sum(words.count(word) for word in innov_dict)\n",
    "\n",
    "df['innov_ws'] = df['preprocessed_ws'].apply(lambda x: count_innov_words(x, innovativeness_dict))\n",
    "df['innov_perwd_ws'] = df['innov_ws'] / df['preprocessed_ws'].apply(len)\n",
    "\n",
    "# Save the dataset as CSV\n",
    "output_csv = os.path.join(output_folder, 'innov_aussie_data.csv')\n",
    "df.to_csv(output_csv, index=False)\n",
    "\n",
    "print(\"Innovativeness analysis complete. Files saved in the 'assignment_4' folder.\")\n"
   ]
  }
 ],
 "metadata": {
  "kernelspec": {
   "display_name": "Python 3",
   "language": "python",
   "name": "python3"
  },
  "language_info": {
   "codemirror_mode": {
    "name": "ipython",
    "version": 3
   },
   "file_extension": ".py",
   "mimetype": "text/x-python",
   "name": "python",
   "nbconvert_exporter": "python",
   "pygments_lexer": "ipython3",
   "version": "3.12.8"
  }
 },
 "nbformat": 4,
 "nbformat_minor": 2
}
