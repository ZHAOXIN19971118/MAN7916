{
 "cells": [
  {
   "cell_type": "code",
   "execution_count": 1,
   "metadata": {},
   "outputs": [
    {
     "name": "stdout",
     "output_type": "stream",
     "text": [
      "File Content: OLD BUT GOLD? EXAMINING THE EFFECT OF AGE BIAS IN REWARD-BASED CROWDFUNDING\n",
      "Abstract\n",
      "While age is positively related to entrepreneurial success, the prevailing stereotype favors younger entrepreneurs. To better understand how these contradictory perspectives influence funding decisions, we examine the role of age in a sample of 41,602 reward-based crowdfunding campaigns from Indiegogo. We find a negative correlation between an entrepreneur’s apparent age and funding performance, indicating a pre\n",
      "Cleaned Citations: ['Zhao et al., 2021', 'Becker, 1962', 'Charles et al., 2001', 'Baron, 2008', 'Colombo & Grilli, 2010', 'Azoulay et al., 2020', 'Shane, 2008', 'Clough et al., 2019', 'Phelps, 1972', 'Mollick, 2014', 'Seigner et al., 2022', 'Fisher et al., 2017', 'Azoulay et al., 2020', 'McPherson et al., 2001', 'Fisher et al., 2017', 'Zhao et al., 2021', 'Mollick, 2014', 'Becker, 1962', 'Baron, 2008', 'Wesemann & Wincent, 2021', 'Nelson & Miller, 1995', 'McMullen & Shepherd, 2006', 'Cooper et al., 1994', 'Gupta et al., 2014', 'Gupta et al., 2009', 'Hmieleski & Sheppard, 2019', 'Martiarena, 2022', 'McSweeney et al., 2022', 'Eddleston et al., 2016', 'Edelman et al., 2018', 'Calic et al., 2023', 'Fisher et al., 2017', 'Dimov & Shepherd, 2005', 'Posthuma & Campion, 2009', 'Gupta et al., 2009', 'Zhao et al., 2021', 'Jones, 2010', 'Cooper et al., 1994', 'Colombo & Grilli, 2010', 'Obschonka et al., 2019', 'Unger et al., 2011', 'Serwaah, 2022', 'Johnson et al., 2018', 'Mollick, 2014', 'Stevenson et al., 2022', 'Johnson et al., 2018', 'Murray et al., 2020', 'Phelps, 1972', 'Correll & Benard, 2006', 'Zhao et al., 2021', 'Azoulay et al., 2020', 'McPherson et al., 2001', 'Greenberg & Mollick, 2017', 'Bapna & Ganco, 2021', 'Groza et al., 2020', 'Galak et al., 2011', 'Groza et al., 2020', 'Galak et al., 2011', 'Franke et al., 2006', 'Phillips et al., 2013', 'Smith et al., 2014', 'Kunze et al., 2021', 'Zenger & Lawrence, 1989', 'Wesemann & Wincent, 2021', 'Cuddy et al., 2005', 'Fisher et al., 2017', 'Indiegogo, 2023', 'Thies et al., 2016', 'Seigner et al., 2022', 'Davis et al., 2021', 'Belleflamme et al., 2014', 'Seigner et al., 2022', 'Taigman et al., 2014', 'Ganel et al., 2022', 'Albiero et al., 2020', 'Seigner et al., 2022', 'Younkin & Kuppuswamy, 2018', 'Colombo et al., 2015', 'Nielsen & Binder, 2021', 'Skirnevskiy et al., 2017', 'Allison et al., 2015', 'Huang et al., 2021', 'Mollick, 2014', 'Younkin & Kuppuswamy, 2018', 'Allison et al., 2017', 'Friedline et al., 2015', 'Aguinis et al., 2013', 'Seigner & Milanov, 2023', 'Blackburn, 2015', 'Hailpern & Visintainer, 2003', 'Blackwell et al., 2009', 'Heckman, 1979', 'Certo et al., 2016', 'Seigner et al., 2022', 'Zhang, 2022', 'Frank, 2000', 'Yan et al., 2023', 'Zhao et al., 2021', 'North & Fiske, 2015', 'Serwaah, 2022', 'Wesemann & Wincent, 2021', 'Younkin & Kuppuswamy, 2018', 'McPherson et al., 2001', 'Zhao et al., 2021', 'Mollick, 2014', 'Becker, 1962', 'Baron, 2008', 'Colombo & Grilli, 2010', 'Phelps, 1972', 'Matthews et al., 2024', 'Azoulay et al., 2020', 'Shepherd et al., 2000', 'Mollick, 2014', 'Schweisfurth et al., 2023', 'Wesemann & Wincent, 2021', 'Wesemann & Wincent, 2021', 'Jennings & Brush, 2013', 'Niehaves & Plattfaut, 2014', 'Kautonen et al., 2010', 'Cuddy et al., 2005', 'Seigner et al., 2022', 'Albiero et al., 2020', 'Ganel et al., 2022', 'Davis et al., 2021', 'Younkin & Kuppuswamy, 2018', 'Tversky & Kahneman, 1974', 'Hustedde & Pulver, 1992', 'Gigerenzer & Gaissmaier, 2011', 'Eisenhardt & Sull, 2001', 'Mochkabadi & Volkmann, 2020', 'Mollick & Nanda, 2016', 'Kretschmer et al., 2022', 'Dushnitsky et al., 2022']\n",
      "Citation Counts: Counter({'Zhao et al., 2021': 6, 'Mollick, 2014': 6, 'Seigner et al., 2022': 6, 'Wesemann & Wincent, 2021': 5, 'Azoulay et al., 2020': 4, 'Fisher et al., 2017': 4, 'Younkin & Kuppuswamy, 2018': 4, 'Becker, 1962': 3, 'Baron, 2008': 3, 'Colombo & Grilli, 2010': 3, 'Phelps, 1972': 3, 'McPherson et al., 2001': 3, 'Cooper et al., 1994': 2, 'Gupta et al., 2009': 2, 'Serwaah, 2022': 2, 'Johnson et al., 2018': 2, 'Groza et al., 2020': 2, 'Galak et al., 2011': 2, 'Cuddy et al., 2005': 2, 'Davis et al., 2021': 2, 'Ganel et al., 2022': 2, 'Albiero et al., 2020': 2, 'Charles et al., 2001': 1, 'Shane, 2008': 1, 'Clough et al., 2019': 1, 'Nelson & Miller, 1995': 1, 'McMullen & Shepherd, 2006': 1, 'Gupta et al., 2014': 1, 'Hmieleski & Sheppard, 2019': 1, 'Martiarena, 2022': 1, 'McSweeney et al., 2022': 1, 'Eddleston et al., 2016': 1, 'Edelman et al., 2018': 1, 'Calic et al., 2023': 1, 'Dimov & Shepherd, 2005': 1, 'Posthuma & Campion, 2009': 1, 'Jones, 2010': 1, 'Obschonka et al., 2019': 1, 'Unger et al., 2011': 1, 'Stevenson et al., 2022': 1, 'Murray et al., 2020': 1, 'Correll & Benard, 2006': 1, 'Greenberg & Mollick, 2017': 1, 'Bapna & Ganco, 2021': 1, 'Franke et al., 2006': 1, 'Phillips et al., 2013': 1, 'Smith et al., 2014': 1, 'Kunze et al., 2021': 1, 'Zenger & Lawrence, 1989': 1, 'Indiegogo, 2023': 1, 'Thies et al., 2016': 1, 'Belleflamme et al., 2014': 1, 'Taigman et al., 2014': 1, 'Colombo et al., 2015': 1, 'Nielsen & Binder, 2021': 1, 'Skirnevskiy et al., 2017': 1, 'Allison et al., 2015': 1, 'Huang et al., 2021': 1, 'Allison et al., 2017': 1, 'Friedline et al., 2015': 1, 'Aguinis et al., 2013': 1, 'Seigner & Milanov, 2023': 1, 'Blackburn, 2015': 1, 'Hailpern & Visintainer, 2003': 1, 'Blackwell et al., 2009': 1, 'Heckman, 1979': 1, 'Certo et al., 2016': 1, 'Zhang, 2022': 1, 'Frank, 2000': 1, 'Yan et al., 2023': 1, 'North & Fiske, 2015': 1, 'Matthews et al., 2024': 1, 'Shepherd et al., 2000': 1, 'Schweisfurth et al., 2023': 1, 'Jennings & Brush, 2013': 1, 'Niehaves & Plattfaut, 2014': 1, 'Kautonen et al., 2010': 1, 'Tversky & Kahneman, 1974': 1, 'Hustedde & Pulver, 1992': 1, 'Gigerenzer & Gaissmaier, 2011': 1, 'Eisenhardt & Sull, 2001': 1, 'Mochkabadi & Volkmann, 2020': 1, 'Mollick & Nanda, 2016': 1, 'Kretschmer et al., 2022': 1, 'Dushnitsky et al., 2022': 1})\n"
     ]
    }
   ],
   "source": [
    "import re\n",
    "from collections import Counter\n",
    "import matplotlib.pyplot as plt\n",
    "\n",
    "# File paths\n",
    "input_file_path = \"C:\\\\Users\\\\Administrator\\\\Desktop\\\\MAN7916\\\\assignments\\\\materials\\\\week_4\\\\article_preprint.txt\"\n",
    "output_image_path = \"C:\\\\Users\\\\Administrator\\\\Desktop\\\\MAN7916\\\\assignments/submissions/assignment_4/common_citations.jpg\"\n",
    "output_report_path = \"C:\\\\Users\\\\Administrator\\\\Desktop\\\\MAN7916\\\\assignments/submissions/assignment_4/references_report.txt\"\n",
    "\n",
    "# Step 1: Read the file\n",
    "with open(input_file_path, \"r\", encoding=\"utf-8\") as file:\n",
    "    text = file.read()\n",
    "with open(input_file_path, \"r\", encoding=\"utf-8\") as file:\n",
    "    text = file.read()\n",
    "\n",
    "print(\"File Content:\", text[:500])  \n",
    "\n",
    "# Step 2: Extract citations with names and dates in parentheses\n",
    "# Adjust regex to capture the entire citation string\n",
    "pattern_names_dates = r\"\\((?:e\\.g\\., )?((?:[A-Z][a-zA-Z]+(?: et al\\.| & [A-Z][a-zA-Z]+)?, \\d{4})(?:; )?)+\\)\"\n",
    "matches = re.findall(pattern_names_dates, text)\n",
    "\n",
    "# Flatten and clean citations\n",
    "cleaned_citations_with_names = []\n",
    "for group in matches:\n",
    "    citations = re.split(r\";\", group)\n",
    "    cleaned_citations = [citation.strip() for citation in citations if citation.strip()]\n",
    "    cleaned_citations_with_names.extend(cleaned_citations)\n",
    "\n",
    "# Count citation frequencies\n",
    "citation_counts = Counter(cleaned_citations_with_names)\n",
    "most_common_citations = citation_counts.most_common(20) \n",
    "# Print results for verification\n",
    "print(\"Cleaned Citations:\", cleaned_citations_with_names)\n",
    "print(\"Citation Counts:\", citation_counts)\n"
   ]
  },
  {
   "cell_type": "code",
   "execution_count": 2,
   "metadata": {},
   "outputs": [],
   "source": [
    "# Step 3: Generate bar chart of top 20 citations\n",
    "most_common_citations = citation_counts.most_common(20)\n",
    "citation_labels, citation_frequencies = zip(*most_common_citations)\n",
    "\n",
    "plt.figure(figsize=(12, 6))\n",
    "plt.bar(citation_labels, citation_frequencies)\n",
    "plt.xticks(rotation=45, ha=\"right\", fontsize=10)\n",
    "plt.ylabel(\"Frequency\")\n",
    "plt.title(\"Top 20 Most Cited References\")\n",
    "plt.tight_layout()\n",
    "plt.savefig(output_image_path)\n",
    "plt.close()\n"
   ]
  },
  {
   "cell_type": "code",
   "execution_count": 3,
   "metadata": {},
   "outputs": [
    {
     "name": "stdout",
     "output_type": "stream",
     "text": [
      "Process complete! Bar chart and references report have been saved.\n"
     ]
    }
   ],
   "source": [
    "# Step 4: Extract citations with only dates in parentheses\n",
    "pattern_dates_only = r\"[A-Z][a-zA-Z]+(?: et al\\.| & [A-Z][a-zA-Z]+)? \\(\\d{4}\\)\"\n",
    "date_only_citations = re.findall(pattern_dates_only, text)\n",
    "unique_date_only_citations = sorted(set(date_only_citations))\n",
    "\n",
    "# Step 5: Generate the references report\n",
    "unique_name_date_citations = sorted(set(cleaned_citations_with_names))\n",
    "\n",
    "with open(output_report_path, \"w\", encoding=\"utf-8\") as report_file:\n",
    "    report_file.write(\"Citations with Names and Dates in Parentheses:\\n\")\n",
    "    report_file.write(\"\\n\".join(unique_name_date_citations))\n",
    "    report_file.write(\"\\n\\nCitations with Only Dates in Parentheses:\\n\")\n",
    "    report_file.write(\"\\n\".join(unique_date_only_citations))\n",
    "\n",
    "print(\"Process complete! Bar chart and references report have been saved.\")\n"
   ]
  },
  {
   "cell_type": "code",
   "execution_count": null,
   "metadata": {},
   "outputs": [],
   "source": []
  }
 ],
 "metadata": {
  "kernelspec": {
   "display_name": "Python 3",
   "language": "python",
   "name": "python3"
  },
  "language_info": {
   "codemirror_mode": {
    "name": "ipython",
    "version": 3
   },
   "file_extension": ".py",
   "mimetype": "text/x-python",
   "name": "python",
   "nbconvert_exporter": "python",
   "pygments_lexer": "ipython3",
   "version": "3.12.8"
  }
 },
 "nbformat": 4,
 "nbformat_minor": 2
}
