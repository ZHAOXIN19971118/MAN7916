{
 "cells": [
  {
   "cell_type": "markdown",
   "metadata": {},
   "source": [
    "# Tutorial: Use regular expressions to extract information from an email"
   ]
  },
  {
   "cell_type": "markdown",
   "metadata": {},
   "source": [
    "## Step 1: Understanding Regular Expression Patterns"
   ]
  },
  {
   "cell_type": "markdown",
   "metadata": {},
   "source": [
    "The first part of this notebook will leverage [Regex101](https://regex101.com/) to understand how to extract information from a short text so you can grapple with understanding the regular expression pattern 'language' before learning how to do it in Python.\n",
    "\n",
    "1. Go to [Regex101](https://regex101.com/).\n",
    "2. Choose \"Python\" as the flavor on the left side of the screen.\n",
    "3. Copy the following tweaked journal text in the \"TEST STRING\" box:\n",
    "\n",
    "> In this retrospective article, we outline the rationale for starting Strategic Entrepreneurship Journal. We provide evidence on the percentage of published papers in SEJ in each of 10 key themes in strategic entrepreneurship identified when the journal was founded. Evidence on progress toward goal achievement in terms of trends in keywords, submissions, desk reject and acceptances rates, and downloads, plus examples of highly cited papers and entry into key indicators such as the Financial Times list of 50 journals. We outline developments in strategic entrepreneurship and their implications for future research, notably the need to consider multiple levels of analysis and the role of context variety. Finally, we discuss some of the lessons we learned from SEJ in terms of general challenges that arise in starting a new journal. Copyright © 2017 Strategic Management Society.\n",
    ">\n",
    "> Article presented at Ideas@UCF conference\n",
    ">\n",
    "> keywords: strategic entrepreneurship, entrepreneurship, opportunity, resource-based view, start-up\n",
    "> \n",
    "> *correspondence to: Mike Wright, Imperial College Business School, Exhibition Road, London SW7 2AZ, UK. E-mail: mike.wright@imperial.ac.uk or m_wright37@gmail.com"
   ]
  },
  {
   "cell_type": "markdown",
   "metadata": {},
   "source": [
    "### Task 1: Extract the email address from the text\n",
    "\n",
    "We want to extract the email address from the text. To do this, we need to create a regular expression pattern that matches the email address. We know that email addresses have the following structure:\n",
    "* They start with a sequence of characters that can be letters, numbers, dots, or underscores.\n",
    "* This sequence is followed by the \"@\" symbol.\n",
    "* After the \"@\" symbol, there is another sequence of characters that can be letters, numbers, dots, or underscores.\n",
    "* This second sequence is followed by the \".\" symbol.\n",
    "* Finally, there is a sequence of letters that represents the domain.\n",
    "* The domain can have one or more parts separated by dots.\n",
    "\n",
    "How do we represent this structure using regular expressions?\n",
    "\n",
    "Let's start with just the sequence of characters before the \"@\" symbol. We can use the pattern `\\w+` to represent a sequence of one or more word characters. The `\\w` pattern matches any word character (including underscores). The `+` symbol indicates that we want to match at least one, but as many as possible of these word characters. Try it... add `\\w+` to the \"REGULAR EXPRESSION\" box and see what it matches...\n",
    "\n",
    "**Try it before proceeding... - `\\w+`**\n",
    "\n",
    "Well, that didn't work as expected. The pattern `\\w+` matched all of the words in the text, not just the email address. This happened because the pattern `\\w+` matches any sequence of word characters, not just the email address. We also didn't capture the dot that came before the \"@\" symbol in the email address. Let's tackle the dot first. We can use the pattern `\\.` to match a dot. Try it... add `\\.` to what you already have in the \"REGULAR EXPRESSION\" box and see what it matches...\n",
    "\n",
    "**Try it before proceeding... - `\\w+\\.`**\n",
    "\n",
    "Well, that's one step forward and one step back. We now have captured the dot before the \"@\" symbol, but we are still matching all words that have a period after them, and we've lost the email address that doesn't have a period before the \"@\" symbol. We need to make the dot optional. We can do this by using the `?` symbol after the dot. The `?` symbol indicates that the preceding character is optional. Try it... add `?` to what you already have in the \"REGULAR EXPRESSION\" box and see what it matches...\n",
    "\n",
    "**Try it before proceeding... - `\\w+\\.?`**\n",
    "\n",
    "This worked, it's now capturing all parts of the email address before the \"@\" symbol. But we have a problem: We're capturing the first part of the email address, but when there's a dot, we're capturing the part after the dot as a *different* match (notice how it's a different color in the matches).\n",
    "\n",
    "We can address this by letting our pattern know that we don't care about the ordering of the word characters and dots, we want to capture all of them regardless of the ordering. We can do this by using square brackets `[]` to create a character set. A character set allows us to specify a set of characters that we want to match. For example, the character set `[abc]` will match any of the characters `a`, `b`, or `c` regardless of which ones appear and in what order. We can use a character set to match any word character or dot. Try it... replace what we have in the \"REGULAR EXPRESSION\" box with `[\\w\\.]+` and see what it matches...\n",
    "\n",
    "**Try it before proceeding... - `[\\w\\.]+`**\n",
    "\n",
    "Better! Now we're capturing all parts of the email address before the \"@\" symbol as one match. Let's add in the \"@\" symbol. We can do this by adding `@` to the pattern. Try it... add `@` to what you already have in the \"REGULAR EXPRESSION\" box and see what it matches...\n",
    "\n",
    "**Try it before proceeding... - `[\\w\\.]+\\@`**\n",
    "\n",
    "Even better! Now we're no longer capturing strings that do not contain an \"@\" symbol - which is good. Now we need to capture the second part of the email address. We can use the same pattern we used for the first part of the email address: `[\\w\\.]+`. Try it... add `[\\w\\.]+` to what you already have in the \"REGULAR EXPRESSION\" box and see what it matches...\n",
    "\n",
    "**Try it before proceeding... - `[\\w\\.]+\\@[\\w\\.]+`**\n",
    "\n",
    "We're almost there! But that one non-email-address is still being captured! What makes email addresses systematically different from that string such that we could use a pattern to capture them? The domain part of the email address is a sequence of letters that *must* be followed by a dot and then another sequence of letters. We can use the pattern we started with in reverse to specify that it must end with a dot followed by a sequence of letters. Try it... add `\\.\\w+` to what you already have in the \"REGULAR EXPRESSION\" box and see what it matches...\n",
    "\n",
    "**Try it before proceeding... - `[\\w\\.]+\\@[\\w\\.]+\\.\\w+`**\n",
    "\n",
    "One last thing, we know that the bit after the last dot is either 2 (e.g., `.uk`) or 3 (e.g., `.com`) characters long. We can specify this by using the `{}` pattern. The `{}` pattern allows us to specify the number of times we want to match a pattern. For example, the pattern `\\w{2,3}` will match a sequence of letters that is at least 2 characters long and at most 3 characters long. Try it... replace `\\w+` with `\\w{2,3}` in the \"REGULAR EXPRESSION\" box and see what it matches...\n",
    "\n",
    "**Try it before proceeding... - `[\\w\\.]+\\@[\\w\\.]+\\.\\w{2,3}`**\n",
    "\n",
    "Great! We've successfully matched the email addresses. We can use this pattern in Python to extract email addresses from text."
   ]
  },
  {
   "cell_type": "markdown",
   "metadata": {
    "vscode": {
     "languageId": "plaintext"
    }
   },
   "source": [
    "### Task 2: Extract keywords from the text\n",
    "\n",
    "We want to extract the keywords associated with this article. Let's see \n",
    "what we can tell about these keywords to help make extraction easier:\n",
    "\n",
    "- They are led off by 'keywords'\n",
    "- They are words, but don't have any specific structure unto themselves\n",
    "- They are separated by commas and spaces\n",
    "\n",
    "Let's start with the first bit. We know that it starts with 'keywords'. \n",
    "Since this is a fixed set of characters we won't give the regular expression any\n",
    "leeway about ordering of the characters or how many times they appear. For \n",
    "right now just enter `keywords` into the \"REGULAR EXPRESSION\" box and see what it matches.\n",
    "\n",
    "**Try it before proceeding... - `keywords`**\n",
    "\n",
    "Hrmm... well it captured the right bit, but it also captured the instance of the word \n",
    "'keywords' in the abstract as well. We have two options on how we could handle this:\n",
    "\n",
    "1. We could observe that the one we want is followed by a colon (\":\"), and specify that \n",
    "must be part of the pattern.\n",
    "2. We could observe that the one we want is at the beginning of the string we're searching, \n",
    "and specify that must be part of the pattern.\n",
    "\n",
    "Let's do both: We'll add `^` to the beginning of our regular expression to look only for \n",
    "'keywords' at the beginning of the string, and we'll add `\\:\\s` at the end to specify that\n",
    "the colon and space must be present. Try it... replace `keywords` with `^keywords\\:\\s` in the\n",
    "\"REGULAR EXPRESSION\" box and see what it matches.\n",
    "\n",
    "**Try it before proceeding... - `^keywords\\:\\s`**\n",
    "\n",
    "That works! Now we're only capturing the 'keywords: ' at the beginning of the string. But we want to capture all of the words that come after 'keywords: '. We can use the pattern `(.*)` to match everything else until there is a new line. The `.*` pattern matches any character (except for line terminators) zero or more times. The `()` are used to capture the matched characters. Try it... add `(.*)` to what you already have in the \"REGULAR EXPRESSION\" box and see what it matches...\n",
    "\n",
    "**Try it before proceeding... - `^keywords\\:\\s(.*)`**\n",
    "\n",
    "That worked! We've successfully matched the keywords. We can use this pattern in Python to extract keywords from text."
   ]
  },
  {
   "cell_type": "markdown",
   "metadata": {},
   "source": [
    "### Task 3: Extract the copyright from the text while also capturing the year\n",
    "\n",
    "We don't want the copyright statement in the text, but we do want to capture the year it was published from that copyright statement. We can use regular expressions to help us with both. Before we do that, let's make some assumptions about these copyright statements:\n",
    "\n",
    "- They all begin with \"Copyright ©\" followed by a year\n",
    "- Everything after the year is part of the copyright statement, but is wholly unstructured\n",
    "(i.e., it could be anything)\n",
    "- The end of the line is the end of the copyright statement. (We don't want to also match the\n",
    "keywords on the next line, etc.)\n",
    "\n",
    "Let's start with the first bit. We know that it starts with 'Copyright © 1997'. \n",
    "For right now just enter `Copyright © 1997` into the \"REGULAR EXPRESSION\" box and see \n",
    "that it matches.\n",
    "\n",
    "**Try it before proceeding... - `Copyright © 1997`**\n",
    "\n",
    "Yep... it captured it, but if the year had been any other year, it wouldn't have...\n",
    "Instead, let's search for any 4-digit number and assume that's the year. `\\d` is the\n",
    "pattern for any digit, and `{}` allows us to specify how many times we want to match. \n",
    "For example, the pattern `\\d{4}` will match a sequence of 4 digits. Try it... replace \n",
    "`1997` with `\\d{4}` in the \"REGULAR EXPRESSION\" box and see what it matches...\n",
    "\n",
    "**Try it before proceeding... - `Copyright © \\d{4}`**\n",
    "\n",
    "We've successfully matched the year. Now we want to capture everything after the year.\n",
    "We can use the pattern `.*` to match any character (except for line terminators) 0 or more times.\n",
    "Try it... add `.*` to what you already have in the \"REGULAR EXPRESSION\" box and see what it matches...\n",
    "\n",
    "**Try it before proceeding... - `Copyright © \\d{4}.*`**\n",
    "\n",
    "But wait! We wanted to be able to extract the year from the copyright statement. We're not \n",
    "doing that right now. We can use parentheses `()` to create a capturing group. A capturing\n",
    "group allows us to extract the part of the string that matches the pattern inside the parentheses.\n",
    "Try it... replace `\\d{4}` with `(\\d{4})` in the \"REGULAR EXPRESSION\" box and see what it matches...\n",
    "\n",
    "**Try it before proceeding... - `Copyright © (\\d{4}).*`**\n",
    "\n",
    "Great! We've successfully matched the copyright statement and captured the year. You will see that \n",
    "not only is the year highlighted in a different color now, but it is marked as \"Group 1\" in the\n",
    "\"MATCH INFORMATION\" box. We can use this pattern in Python to extract the copyright statement and the \n",
    "year from text."
   ]
  },
  {
   "cell_type": "markdown",
   "metadata": {},
   "source": [
    "### Play around\n",
    "\n",
    "Feel free to play around with Regex101 to get a better understanding of how regular expressions work.\n",
    "It is a handy resource to test your regular expressions before using them in Python."
   ]
  },
  {
   "cell_type": "markdown",
   "metadata": {},
   "source": [
    "## Step 2: Replicating the Regular Expression Patterns in Python"
   ]
  },
  {
   "cell_type": "markdown",
   "metadata": {},
   "source": [
    "### Part 1: Explore the `re` module functions\n",
    "\n",
    "Now we'll take what we did above and show how it can be done in Python. We'll use the `re` module in Python to work with regular expressions. Let's start by importing the `re` module and defining the text we want to extract information from."
   ]
  },
  {
   "cell_type": "code",
   "execution_count": null,
   "metadata": {},
   "outputs": [],
   "source": [
    "import re\n",
    "import textwrap\n",
    "\n",
    "text = \"\"\"In this retrospective article, we outline the rationale for starting Strategic Entrepreneurship Journal. We provide evidence on the percentage of published papers in SEJ in each of 10 key themes in strategic entrepreneurship identified when the journal was founded. Evidence on progress toward goal achievement in terms of trends in keywords, submissions, desk reject and acceptances rates, and downloads, plus examples of highly cited papers and entry into key indicators such as the Financial Times list of 50 journals. We outline developments in strategic entrepreneurship and their implications for future research, notably the need to consider multiple levels of analysis and the role of context variety. Finally, we discuss some of the lessons we learned from SEJ in terms of general challenges that arise in starting a new journal. Copyright © 2017 Strategic Management Society.\n",
    "keywords: strategic entrepreneurship, entrepreneurship, opportunity, resource-based view, start-up\n",
    "Article presented at Ideas@UCF conference\n",
    "*Correspondence to: Mike Wright, Imperial College Business School, Exhibition Road, London SW7 2AZ, UK. E-mail: mike.wright@imperial.ac.uk or m_wright37@gmail.com\"\"\"\n",
    "\n",
    "print(\"The text is: \")\n",
    "print(\"=\"*30)\n",
    "print(textwrap.fill(text, width=80))"
   ]
  },
  {
   "cell_type": "markdown",
   "metadata": {},
   "source": [
    "Looks ugly, but we don't need to worry about that. \n",
    "\n",
    "The `re` module provides several functions that allow us to work with regular expressions. The `re.search()` function searches for a pattern in a string and returns the first match.\n",
    "\n",
    "When using regular expressions in Python, we need to use raw strings. Raw strings are string literals that have an `r` at the beginning, which makes backslashes `\\` be treated as literal characters. This is important because regular expressions use backslashes to escape special characters. If we didn't do this, the `\\` would be treated as a *python* escape character rather than as a regular expression escape character.\n",
    "\n",
    "Let's start by extracting the first word starting with a 'p':"
   ]
  },
  {
   "cell_type": "code",
   "execution_count": null,
   "metadata": {},
   "outputs": [],
   "source": [
    "# \\b is a word boundary\n",
    "pattern = r\"\\bp\\w+\"\n",
    "\n",
    "print(re.search(pattern, text).group())"
   ]
  },
  {
   "cell_type": "markdown",
   "metadata": {},
   "source": [
    "`re.search` returns a 'Match' object. To get the text that was matched, we use the `group()` method\n",
    "\n",
    "What if we wanted to find *all* of the words starting with 'p'? The `re.findall` method is like search, but for finding all matches."
   ]
  },
  {
   "cell_type": "code",
   "execution_count": null,
   "metadata": {},
   "outputs": [],
   "source": [
    "print(re.findall(pattern, text))"
   ]
  },
  {
   "cell_type": "markdown",
   "metadata": {},
   "source": [
    "You can also use regular expressions to split a string into parts. The `re.split()` function splits a string based on a pattern and returns a list of the parts.\n",
    "\n",
    "Let's split the text into parts based on the pattern `[\\n\\s]+`. This pattern matches one or more whitespace characters or newline characters."
   ]
  },
  {
   "cell_type": "code",
   "execution_count": null,
   "metadata": {},
   "outputs": [],
   "source": [
    "pattern = r\"[\\n\\s]+\"\n",
    "print(re.split(pattern, text))"
   ]
  },
  {
   "cell_type": "markdown",
   "metadata": {},
   "source": [
    "Finally, you can use regular expressions to replace parts of a string. The `re.sub()` function replaces all occurrences of a pattern in a string with a new string.\n",
    "\n",
    "Let's replace all letters with an asterisk in the text."
   ]
  },
  {
   "cell_type": "code",
   "execution_count": null,
   "metadata": {},
   "outputs": [],
   "source": [
    "print(re.sub(r'\\w', \"*\", text))"
   ]
  },
  {
   "cell_type": "markdown",
   "metadata": {},
   "source": [
    "### Part 2: Replicating the Regex101 patterns in Python"
   ]
  },
  {
   "cell_type": "markdown",
   "metadata": {},
   "source": [
    "#### 1. Extract the email addresses from the text\n",
    "\n",
    "In Regex101 we used the pattern `[\\w\\.]+\\@[\\w\\.]+\\.\\w{2,3}` to extract email addresses from the text. We can use the same pattern in Python to extract email addresses from the text."
   ]
  },
  {
   "cell_type": "code",
   "execution_count": null,
   "metadata": {},
   "outputs": [],
   "source": [
    "pattern = r\"[\\w\\.]+\\@[\\w\\.]+\\.\\w{2,3}\"\n",
    "\n",
    "print(re.findall(pattern, text))"
   ]
  },
  {
   "cell_type": "markdown",
   "metadata": {},
   "source": [
    "#### 2. Extract keywords from the text\n",
    "\n",
    "In Regex101 we used the pattern `^keywords\\:\\s[\\w\\s]+` to extract keywords from the text. We can use the same pattern in Python to extract keywords from the text.\n",
    "\n",
    "Note: We need to use the `re.MULTILINE` flag to match the beginning of the string in each line. Without this, Python thinks that the text is a single line and doesn't match the pattern separately for each line."
   ]
  },
  {
   "cell_type": "code",
   "execution_count": null,
   "metadata": {},
   "outputs": [],
   "source": [
    "pattern = r\"^keywords\\:\\s(.*)\"\n",
    "\n",
    "print(\"The entire match is: \", re.search(pattern, text, re.MULTILINE).group())\n",
    "captured_group = re.search(pattern, text, re.MULTILINE).group(1)\n",
    "print(f\"The captured group () is: {captured_group}\")"
   ]
  },
  {
   "cell_type": "code",
   "execution_count": null,
   "metadata": {},
   "outputs": [],
   "source": [
    "# It is easy to split the string into a list of words using Python's\n",
    "# built-in split() method:\n",
    "print(captured_group.split(\",\"))"
   ]
  },
  {
   "cell_type": "code",
   "execution_count": null,
   "metadata": {},
   "outputs": [],
   "source": [
    "# Note that the results include leading and trailing spaces.\n",
    "# re.split() is more flexible, allowing splits by a regular expression pattern:\n",
    "print(re.split(r\",\\s*\", captured_group))\n",
    "# r\",\\s*\" matches a comma followed by zero or more whitespace characters."
   ]
  },
  {
   "cell_type": "markdown",
   "metadata": {},
   "source": [
    "#### 3. Extracting the publication year and removing the copyright statement\n",
    "\n",
    "In Regex101 we used the pattern `Copyright © (\\d{4}).*` to extract the publication year from the copyright statement. We can use the same pattern in Python to extract the publication year from the text."
   ]
  },
  {
   "cell_type": "code",
   "execution_count": null,
   "metadata": {},
   "outputs": [],
   "source": [
    "pattern = r\"Copyright © (\\d{4}).*\"\n",
    "\n",
    "print(\"The year is: \", re.search(pattern, text).group(1))\n",
    "print(\"Without the copyright statement:\")\n",
    "print(re.sub(pattern, \"\", text))"
   ]
  },
  {
   "cell_type": "markdown",
   "metadata": {},
   "source": [
    "## Step 3: Extracting Information from the Email\n",
    "\n",
    "Now that we've learned how to use regular expressions in Python, let's practice extracting information from an email."
   ]
  },
  {
   "cell_type": "code",
   "execution_count": null,
   "metadata": {},
   "outputs": [],
   "source": [
    "# Load the email\n",
    "\n",
    "from pathlib import Path\n",
    "\n",
    "email = Path.cwd()/\"data\"/\"email.txt\"\n",
    "assert email.exists()\n",
    "text = email.read_text(encoding=\"utf-8\")\n",
    "print(text)"
   ]
  },
  {
   "cell_type": "markdown",
   "metadata": {},
   "source": [
    "### Task 1: Use regular expressions to extract the email addresses of who this email was sent from/to"
   ]
  },
  {
   "cell_type": "code",
   "execution_count": null,
   "metadata": {},
   "outputs": [],
   "source": [
    "# Your playground\n",
    "\n"
   ]
  },
  {
   "cell_type": "markdown",
   "metadata": {},
   "source": [
    "** Try it yourself before proceeding... **\n",
    "\n",
    "---"
   ]
  },
  {
   "cell_type": "code",
   "execution_count": null,
   "metadata": {},
   "outputs": [],
   "source": [
    "# One possible solution:\n",
    "\n",
    "\n",
    "email_pattern = r\"[\\w\\.]+\\@[\\w\\.]+\\.\\w{2,3}\"\n",
    "# ===From===\n",
    "\n",
    "pattern = r\"From (.*)\"\n",
    "from_all = re.search(pattern, text).group(1)\n",
    "print(f\"Name and email: {from_all}\")\n",
    "just_from_email = re.search(email_pattern, from_all).group()\n",
    "print(f\"Just from email: {just_from_email}\")\n",
    "\n",
    "# ===To===\n",
    "\n",
    "pattern = r\"To (.*)\"\n",
    "to_all = re.search(pattern, text).group(1)\n",
    "print(f\"\\nNames and emails: {to_all}\")\n",
    "just_to_emails = re.findall(email_pattern, to_all)\n",
    "print(f\"Just to emails: {just_to_emails}\")"
   ]
  },
  {
   "cell_type": "markdown",
   "metadata": {},
   "source": [
    "### Task 2: Use regular expressions to extract all phone numbers from the email"
   ]
  },
  {
   "cell_type": "code",
   "execution_count": null,
   "metadata": {},
   "outputs": [],
   "source": [
    "# Your Playground\n",
    "\n",
    "\n",
    "\n"
   ]
  },
  {
   "cell_type": "markdown",
   "metadata": {},
   "source": [
    "** Try it yourself before proceeding... **\n",
    "\n",
    "---"
   ]
  },
  {
   "cell_type": "code",
   "execution_count": null,
   "metadata": {},
   "outputs": [],
   "source": [
    "# One possible solution:\n",
    "\n",
    "pattern = r\"\\(?\\d{3}\\)?[\\s-]?\\d{3}[\\s-]?\\d{4}\"\n",
    "\n",
    "phone_numbers = re.findall(pattern, text)\n",
    "\n",
    "print(\"Phone numbers: \", phone_numbers)"
   ]
  },
  {
   "cell_type": "markdown",
   "metadata": {},
   "source": [
    "### Task 3: Use regular expressions to extract alll URLs from the email"
   ]
  },
  {
   "cell_type": "code",
   "execution_count": null,
   "metadata": {},
   "outputs": [],
   "source": [
    "# Your Playground"
   ]
  },
  {
   "cell_type": "markdown",
   "metadata": {},
   "source": [
    "** Try it yourself before proceeding... **\n",
    "\n",
    "---"
   ]
  },
  {
   "cell_type": "code",
   "execution_count": null,
   "metadata": {},
   "outputs": [],
   "source": [
    "# One possible solution:\n",
    "\n",
    "pattern = r\"https?://\\S*\"\n",
    "\n",
    "urls = re.findall(pattern, text)\n",
    "\n",
    "print(\"URLs: \", urls)"
   ]
  },
  {
   "cell_type": "markdown",
   "metadata": {},
   "source": [
    "Done..."
   ]
  }
 ],
 "metadata": {
  "kernelspec": {
   "display_name": ".venv",
   "language": "python",
   "name": "python3"
  },
  "language_info": {
   "codemirror_mode": {
    "name": "ipython",
    "version": 3
   },
   "file_extension": ".py",
   "mimetype": "text/x-python",
   "name": "python",
   "nbconvert_exporter": "python",
   "pygments_lexer": "ipython3",
   "version": "3.12.7"
  }
 },
 "nbformat": 4,
 "nbformat_minor": 2
}
